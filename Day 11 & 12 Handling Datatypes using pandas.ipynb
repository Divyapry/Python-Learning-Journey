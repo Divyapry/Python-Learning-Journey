{
 "cells": [
  {
   "cell_type": "code",
   "execution_count": 41,
   "metadata": {},
   "outputs": [
    {
     "data": {
      "text/plain": [
       "'Hi Divya!'"
      ]
     },
     "execution_count": 41,
     "metadata": {},
     "output_type": "execute_result"
    }
   ],
   "source": [
    "name_for_userid = { 1:\"Alice\",\n",
    "                    2: \"Bob\",\n",
    "                    3: \"Divya\"}\n",
    "\n",
    "def greeting(userid):\n",
    "    return (\"Hi %s!\" %name_for_userid.get(userid,\"there\"))\n",
    "\n",
    "greeting(3)"
   ]
  },
  {
   "cell_type": "code",
   "execution_count": 42,
   "metadata": {},
   "outputs": [
    {
     "data": {
      "text/plain": [
       "'Hi there!'"
      ]
     },
     "execution_count": 42,
     "metadata": {},
     "output_type": "execute_result"
    }
   ],
   "source": [
    "greeting(45)"
   ]
  },
  {
   "cell_type": "markdown",
   "metadata": {},
   "source": [
    "# DAY12"
   ]
  },
  {
   "cell_type": "code",
   "execution_count": 107,
   "metadata": {},
   "outputs": [
    {
     "name": "stdout",
     "output_type": "stream",
     "text": [
      "   Customer Number     Customer Name          2016            2017  \\\n",
      "0            10002  Quest Industries  $125,000.00     $162,500.00    \n",
      "1           552278    Smith Plumbing  $920,000.00   $1,012,000.00    \n",
      "2            23477   ACME Industrial   $50,000.00      $62,500.00    \n",
      "3            24900        Brekke LTD  $350,000.00     $490,000.00    \n",
      "4           651029         Harbor Co   $15,000.00      $12,750.00    \n",
      "\n",
      "  Percent Growth Jan Units  Month  Day  Year Active  \n",
      "0         30.00%       500      1   10  2015      Y  \n",
      "1         10.00%       700      6   15  2014      Y  \n",
      "2         25.00%       125      3   29  2016      Y  \n",
      "3          4.00%        75     10   27  2015      Y  \n",
      "4        -15.00%    Closed      2    2  2014      N  \n"
     ]
    }
   ],
   "source": [
    "import pandas as pd\n",
    "import numpy as np\n",
    "\n",
    "df= pd.read_csv('sales_data_types.csv')\n",
    "\n",
    "print(df)\n",
    "\n"
   ]
  },
  {
   "cell_type": "code",
   "execution_count": 108,
   "metadata": {},
   "outputs": [
    {
     "name": "stdout",
     "output_type": "stream",
     "text": [
      "0      $125,000.00 $162,500.00 \n",
      "1    $920,000.00 $1,012,000.00 \n",
      "2        $50,000.00 $62,500.00 \n",
      "3      $350,000.00 $490,000.00 \n",
      "4        $15,000.00 $12,750.00 \n",
      "dtype: object\n"
     ]
    }
   ],
   "source": [
    "print(df['2016']+df['2017'])\n",
    "\n",
    "# this gives an output of concatenating of the strings as the dtype of the \n",
    "#associated df is an object and object is string in pandas so it performs \n",
    "#string operations instead of mathematical one"
   ]
  },
  {
   "cell_type": "code",
   "execution_count": 109,
   "metadata": {},
   "outputs": [
    {
     "name": "stdout",
     "output_type": "stream",
     "text": [
      "Customer Number     int64\n",
      "Customer Name      object\n",
      "2016               object\n",
      "2017               object\n",
      "Percent Growth     object\n",
      "Jan Units          object\n",
      "Month               int64\n",
      "Day                 int64\n",
      "Year                int64\n",
      "Active             object\n",
      "dtype: object\n"
     ]
    }
   ],
   "source": [
    "#so now the object datatype is to be convereted to numeric datatype\n",
    "# initially find all the datatypes of the file\n",
    "print(df.dtypes)"
   ]
  },
  {
   "cell_type": "code",
   "execution_count": 110,
   "metadata": {},
   "outputs": [
    {
     "name": "stdout",
     "output_type": "stream",
     "text": [
      "<class 'pandas.core.frame.DataFrame'>\n",
      "RangeIndex: 5 entries, 0 to 4\n",
      "Data columns (total 10 columns):\n",
      "Customer Number    5 non-null int64\n",
      "Customer Name      5 non-null object\n",
      "2016               5 non-null object\n",
      "2017               5 non-null object\n",
      "Percent Growth     5 non-null object\n",
      "Jan Units          5 non-null object\n",
      "Month              5 non-null int64\n",
      "Day                5 non-null int64\n",
      "Year               5 non-null int64\n",
      "Active             5 non-null object\n",
      "dtypes: int64(4), object(6)\n",
      "memory usage: 344.0+ bytes\n",
      "None\n"
     ]
    }
   ],
   "source": [
    "print(df.info())"
   ]
  },
  {
   "cell_type": "code",
   "execution_count": 111,
   "metadata": {},
   "outputs": [],
   "source": [
    "# after using the df.info() function and df.dtypes function we can understand \n",
    "\n",
    "#that 2016 , 2017 columns are stored as 'objects' instead of numeric dtype\n",
    "\n",
    "#percentage growth and Jan units are also stored as 'objects' instead of numeric type\n",
    "\n",
    "#and Month,Day,Year columns should be 'datatime64'\n",
    "\n",
    "#Active column should be boolean\n",
    "\n",
    "#SO UNDER CLEANING THE DATA WE NEED TO ADDRESS THE ABOVE ISSUE SO THAT \n",
    "#FURTHER ANALYSIS OF THE DATA CAN BE TAKEN CARE"
   ]
  },
  {
   "cell_type": "markdown",
   "metadata": {},
   "source": [
    "# In order to convert data types in pandas, 3 basic options as below are used:                          1) astype() to force an appropriate dtype   2)create a custom function to convert the data 3)use pandas functions such as to_numeric or to_datatime()\n"
   ]
  },
  {
   "cell_type": "code",
   "execution_count": 112,
   "metadata": {},
   "outputs": [
    {
     "name": "stdout",
     "output_type": "stream",
     "text": [
      "<class 'pandas.core.frame.DataFrame'>\n",
      "RangeIndex: 5 entries, 0 to 4\n",
      "Data columns (total 10 columns):\n",
      "Customer Number    5 non-null int64\n",
      "Customer Name      5 non-null object\n",
      "2016               5 non-null object\n",
      "2017               5 non-null object\n",
      "Percent Growth     5 non-null object\n",
      "Jan Units          5 non-null object\n",
      "Month              5 non-null int64\n",
      "Day                5 non-null int64\n",
      "Year               5 non-null int64\n",
      "Active             5 non-null object\n",
      "dtypes: int64(4), object(6)\n",
      "memory usage: 344.0+ bytes\n",
      "None\n",
      "\n",
      "\n",
      "    Customer Number     Customer Name          2016            2017  \\\n",
      "0            10002  Quest Industries  $125,000.00     $162,500.00    \n",
      "1           552278    Smith Plumbing  $920,000.00   $1,012,000.00    \n",
      "2            23477   ACME Industrial   $50,000.00      $62,500.00    \n",
      "3            24900        Brekke LTD  $350,000.00     $490,000.00    \n",
      "4           651029         Harbor Co   $15,000.00      $12,750.00    \n",
      "\n",
      "  Percent Growth Jan Units  Month  Day  Year Active  \n",
      "0         30.00%       500      1   10  2015      Y  \n",
      "1         10.00%       700      6   15  2014      Y  \n",
      "2         25.00%       125      3   29  2016      Y  \n",
      "3          4.00%        75     10   27  2015      Y  \n",
      "4        -15.00%    Closed      2    2  2014      N  \n"
     ]
    }
   ],
   "source": [
    "print(df.info())\n",
    "print('\\n\\n', df)"
   ]
  },
  {
   "cell_type": "code",
   "execution_count": 113,
   "metadata": {},
   "outputs": [
    {
     "data": {
      "text/plain": [
       "0     10002\n",
       "1    552278\n",
       "2     23477\n",
       "3     24900\n",
       "4    651029\n",
       "Name: Customer Number, dtype: int32"
      ]
     },
     "execution_count": 113,
     "metadata": {},
     "output_type": "execute_result"
    }
   ],
   "source": [
    "df['Customer Number'].astype('int')"
   ]
  },
  {
   "cell_type": "code",
   "execution_count": 114,
   "metadata": {},
   "outputs": [],
   "source": [
    "#these astype function returns a copy but does not actually change the type\n",
    "# in the original dataframe"
   ]
  },
  {
   "cell_type": "code",
   "execution_count": 115,
   "metadata": {},
   "outputs": [
    {
     "ename": "ValueError",
     "evalue": "invalid literal for int() with base 10: '$125,000.00 '",
     "output_type": "error",
     "traceback": [
      "\u001b[1;31m---------------------------------------------------------------------------\u001b[0m",
      "\u001b[1;31mValueError\u001b[0m                                Traceback (most recent call last)",
      "\u001b[1;32m<ipython-input-115-57665a94dd95>\u001b[0m in \u001b[0;36m<module>\u001b[1;34m\u001b[0m\n\u001b[1;32m----> 1\u001b[1;33m \u001b[0mdf\u001b[0m\u001b[1;33m[\u001b[0m\u001b[1;34m'2016'\u001b[0m\u001b[1;33m]\u001b[0m \u001b[1;33m=\u001b[0m \u001b[0mdf\u001b[0m\u001b[1;33m[\u001b[0m\u001b[1;34m'2016'\u001b[0m\u001b[1;33m]\u001b[0m\u001b[1;33m.\u001b[0m\u001b[0mastype\u001b[0m\u001b[1;33m(\u001b[0m\u001b[1;34m'int'\u001b[0m\u001b[1;33m)\u001b[0m\u001b[1;33m\u001b[0m\u001b[1;33m\u001b[0m\u001b[0m\n\u001b[0m",
      "\u001b[1;32mc:\\users\\dpriyareddypothul\\appdata\\local\\programs\\python\\python37-32\\lib\\site-packages\\pandas\\core\\generic.py\u001b[0m in \u001b[0;36mastype\u001b[1;34m(self, dtype, copy, errors, **kwargs)\u001b[0m\n\u001b[0;32m   5880\u001b[0m             \u001b[1;31m# else, only a single dtype is given\u001b[0m\u001b[1;33m\u001b[0m\u001b[1;33m\u001b[0m\u001b[1;33m\u001b[0m\u001b[0m\n\u001b[0;32m   5881\u001b[0m             new_data = self._data.astype(\n\u001b[1;32m-> 5882\u001b[1;33m                 \u001b[0mdtype\u001b[0m\u001b[1;33m=\u001b[0m\u001b[0mdtype\u001b[0m\u001b[1;33m,\u001b[0m \u001b[0mcopy\u001b[0m\u001b[1;33m=\u001b[0m\u001b[0mcopy\u001b[0m\u001b[1;33m,\u001b[0m \u001b[0merrors\u001b[0m\u001b[1;33m=\u001b[0m\u001b[0merrors\u001b[0m\u001b[1;33m,\u001b[0m \u001b[1;33m**\u001b[0m\u001b[0mkwargs\u001b[0m\u001b[1;33m\u001b[0m\u001b[1;33m\u001b[0m\u001b[0m\n\u001b[0m\u001b[0;32m   5883\u001b[0m             )\n\u001b[0;32m   5884\u001b[0m             \u001b[1;32mreturn\u001b[0m \u001b[0mself\u001b[0m\u001b[1;33m.\u001b[0m\u001b[0m_constructor\u001b[0m\u001b[1;33m(\u001b[0m\u001b[0mnew_data\u001b[0m\u001b[1;33m)\u001b[0m\u001b[1;33m.\u001b[0m\u001b[0m__finalize__\u001b[0m\u001b[1;33m(\u001b[0m\u001b[0mself\u001b[0m\u001b[1;33m)\u001b[0m\u001b[1;33m\u001b[0m\u001b[1;33m\u001b[0m\u001b[0m\n",
      "\u001b[1;32mc:\\users\\dpriyareddypothul\\appdata\\local\\programs\\python\\python37-32\\lib\\site-packages\\pandas\\core\\internals\\managers.py\u001b[0m in \u001b[0;36mastype\u001b[1;34m(self, dtype, **kwargs)\u001b[0m\n\u001b[0;32m    579\u001b[0m \u001b[1;33m\u001b[0m\u001b[0m\n\u001b[0;32m    580\u001b[0m     \u001b[1;32mdef\u001b[0m \u001b[0mastype\u001b[0m\u001b[1;33m(\u001b[0m\u001b[0mself\u001b[0m\u001b[1;33m,\u001b[0m \u001b[0mdtype\u001b[0m\u001b[1;33m,\u001b[0m \u001b[1;33m**\u001b[0m\u001b[0mkwargs\u001b[0m\u001b[1;33m)\u001b[0m\u001b[1;33m:\u001b[0m\u001b[1;33m\u001b[0m\u001b[1;33m\u001b[0m\u001b[0m\n\u001b[1;32m--> 581\u001b[1;33m         \u001b[1;32mreturn\u001b[0m \u001b[0mself\u001b[0m\u001b[1;33m.\u001b[0m\u001b[0mapply\u001b[0m\u001b[1;33m(\u001b[0m\u001b[1;34m\"astype\"\u001b[0m\u001b[1;33m,\u001b[0m \u001b[0mdtype\u001b[0m\u001b[1;33m=\u001b[0m\u001b[0mdtype\u001b[0m\u001b[1;33m,\u001b[0m \u001b[1;33m**\u001b[0m\u001b[0mkwargs\u001b[0m\u001b[1;33m)\u001b[0m\u001b[1;33m\u001b[0m\u001b[1;33m\u001b[0m\u001b[0m\n\u001b[0m\u001b[0;32m    582\u001b[0m \u001b[1;33m\u001b[0m\u001b[0m\n\u001b[0;32m    583\u001b[0m     \u001b[1;32mdef\u001b[0m \u001b[0mconvert\u001b[0m\u001b[1;33m(\u001b[0m\u001b[0mself\u001b[0m\u001b[1;33m,\u001b[0m \u001b[1;33m**\u001b[0m\u001b[0mkwargs\u001b[0m\u001b[1;33m)\u001b[0m\u001b[1;33m:\u001b[0m\u001b[1;33m\u001b[0m\u001b[1;33m\u001b[0m\u001b[0m\n",
      "\u001b[1;32mc:\\users\\dpriyareddypothul\\appdata\\local\\programs\\python\\python37-32\\lib\\site-packages\\pandas\\core\\internals\\managers.py\u001b[0m in \u001b[0;36mapply\u001b[1;34m(self, f, axes, filter, do_integrity_check, consolidate, **kwargs)\u001b[0m\n\u001b[0;32m    436\u001b[0m                     \u001b[0mkwargs\u001b[0m\u001b[1;33m[\u001b[0m\u001b[0mk\u001b[0m\u001b[1;33m]\u001b[0m \u001b[1;33m=\u001b[0m \u001b[0mobj\u001b[0m\u001b[1;33m.\u001b[0m\u001b[0mreindex\u001b[0m\u001b[1;33m(\u001b[0m\u001b[0mb_items\u001b[0m\u001b[1;33m,\u001b[0m \u001b[0maxis\u001b[0m\u001b[1;33m=\u001b[0m\u001b[0maxis\u001b[0m\u001b[1;33m,\u001b[0m \u001b[0mcopy\u001b[0m\u001b[1;33m=\u001b[0m\u001b[0malign_copy\u001b[0m\u001b[1;33m)\u001b[0m\u001b[1;33m\u001b[0m\u001b[1;33m\u001b[0m\u001b[0m\n\u001b[0;32m    437\u001b[0m \u001b[1;33m\u001b[0m\u001b[0m\n\u001b[1;32m--> 438\u001b[1;33m             \u001b[0mapplied\u001b[0m \u001b[1;33m=\u001b[0m \u001b[0mgetattr\u001b[0m\u001b[1;33m(\u001b[0m\u001b[0mb\u001b[0m\u001b[1;33m,\u001b[0m \u001b[0mf\u001b[0m\u001b[1;33m)\u001b[0m\u001b[1;33m(\u001b[0m\u001b[1;33m**\u001b[0m\u001b[0mkwargs\u001b[0m\u001b[1;33m)\u001b[0m\u001b[1;33m\u001b[0m\u001b[1;33m\u001b[0m\u001b[0m\n\u001b[0m\u001b[0;32m    439\u001b[0m             \u001b[0mresult_blocks\u001b[0m \u001b[1;33m=\u001b[0m \u001b[0m_extend_blocks\u001b[0m\u001b[1;33m(\u001b[0m\u001b[0mapplied\u001b[0m\u001b[1;33m,\u001b[0m \u001b[0mresult_blocks\u001b[0m\u001b[1;33m)\u001b[0m\u001b[1;33m\u001b[0m\u001b[1;33m\u001b[0m\u001b[0m\n\u001b[0;32m    440\u001b[0m \u001b[1;33m\u001b[0m\u001b[0m\n",
      "\u001b[1;32mc:\\users\\dpriyareddypothul\\appdata\\local\\programs\\python\\python37-32\\lib\\site-packages\\pandas\\core\\internals\\blocks.py\u001b[0m in \u001b[0;36mastype\u001b[1;34m(self, dtype, copy, errors, values, **kwargs)\u001b[0m\n\u001b[0;32m    557\u001b[0m \u001b[1;33m\u001b[0m\u001b[0m\n\u001b[0;32m    558\u001b[0m     \u001b[1;32mdef\u001b[0m \u001b[0mastype\u001b[0m\u001b[1;33m(\u001b[0m\u001b[0mself\u001b[0m\u001b[1;33m,\u001b[0m \u001b[0mdtype\u001b[0m\u001b[1;33m,\u001b[0m \u001b[0mcopy\u001b[0m\u001b[1;33m=\u001b[0m\u001b[1;32mFalse\u001b[0m\u001b[1;33m,\u001b[0m \u001b[0merrors\u001b[0m\u001b[1;33m=\u001b[0m\u001b[1;34m\"raise\"\u001b[0m\u001b[1;33m,\u001b[0m \u001b[0mvalues\u001b[0m\u001b[1;33m=\u001b[0m\u001b[1;32mNone\u001b[0m\u001b[1;33m,\u001b[0m \u001b[1;33m**\u001b[0m\u001b[0mkwargs\u001b[0m\u001b[1;33m)\u001b[0m\u001b[1;33m:\u001b[0m\u001b[1;33m\u001b[0m\u001b[1;33m\u001b[0m\u001b[0m\n\u001b[1;32m--> 559\u001b[1;33m         \u001b[1;32mreturn\u001b[0m \u001b[0mself\u001b[0m\u001b[1;33m.\u001b[0m\u001b[0m_astype\u001b[0m\u001b[1;33m(\u001b[0m\u001b[0mdtype\u001b[0m\u001b[1;33m,\u001b[0m \u001b[0mcopy\u001b[0m\u001b[1;33m=\u001b[0m\u001b[0mcopy\u001b[0m\u001b[1;33m,\u001b[0m \u001b[0merrors\u001b[0m\u001b[1;33m=\u001b[0m\u001b[0merrors\u001b[0m\u001b[1;33m,\u001b[0m \u001b[0mvalues\u001b[0m\u001b[1;33m=\u001b[0m\u001b[0mvalues\u001b[0m\u001b[1;33m,\u001b[0m \u001b[1;33m**\u001b[0m\u001b[0mkwargs\u001b[0m\u001b[1;33m)\u001b[0m\u001b[1;33m\u001b[0m\u001b[1;33m\u001b[0m\u001b[0m\n\u001b[0m\u001b[0;32m    560\u001b[0m \u001b[1;33m\u001b[0m\u001b[0m\n\u001b[0;32m    561\u001b[0m     \u001b[1;32mdef\u001b[0m \u001b[0m_astype\u001b[0m\u001b[1;33m(\u001b[0m\u001b[0mself\u001b[0m\u001b[1;33m,\u001b[0m \u001b[0mdtype\u001b[0m\u001b[1;33m,\u001b[0m \u001b[0mcopy\u001b[0m\u001b[1;33m=\u001b[0m\u001b[1;32mFalse\u001b[0m\u001b[1;33m,\u001b[0m \u001b[0merrors\u001b[0m\u001b[1;33m=\u001b[0m\u001b[1;34m\"raise\"\u001b[0m\u001b[1;33m,\u001b[0m \u001b[0mvalues\u001b[0m\u001b[1;33m=\u001b[0m\u001b[1;32mNone\u001b[0m\u001b[1;33m,\u001b[0m \u001b[1;33m**\u001b[0m\u001b[0mkwargs\u001b[0m\u001b[1;33m)\u001b[0m\u001b[1;33m:\u001b[0m\u001b[1;33m\u001b[0m\u001b[1;33m\u001b[0m\u001b[0m\n",
      "\u001b[1;32mc:\\users\\dpriyareddypothul\\appdata\\local\\programs\\python\\python37-32\\lib\\site-packages\\pandas\\core\\internals\\blocks.py\u001b[0m in \u001b[0;36m_astype\u001b[1;34m(self, dtype, copy, errors, values, **kwargs)\u001b[0m\n\u001b[0;32m    641\u001b[0m                     \u001b[1;31m# _astype_nansafe works fine with 1-d only\u001b[0m\u001b[1;33m\u001b[0m\u001b[1;33m\u001b[0m\u001b[1;33m\u001b[0m\u001b[0m\n\u001b[0;32m    642\u001b[0m                     \u001b[0mvals1d\u001b[0m \u001b[1;33m=\u001b[0m \u001b[0mvalues\u001b[0m\u001b[1;33m.\u001b[0m\u001b[0mravel\u001b[0m\u001b[1;33m(\u001b[0m\u001b[1;33m)\u001b[0m\u001b[1;33m\u001b[0m\u001b[1;33m\u001b[0m\u001b[0m\n\u001b[1;32m--> 643\u001b[1;33m                     \u001b[0mvalues\u001b[0m \u001b[1;33m=\u001b[0m \u001b[0mastype_nansafe\u001b[0m\u001b[1;33m(\u001b[0m\u001b[0mvals1d\u001b[0m\u001b[1;33m,\u001b[0m \u001b[0mdtype\u001b[0m\u001b[1;33m,\u001b[0m \u001b[0mcopy\u001b[0m\u001b[1;33m=\u001b[0m\u001b[1;32mTrue\u001b[0m\u001b[1;33m,\u001b[0m \u001b[1;33m**\u001b[0m\u001b[0mkwargs\u001b[0m\u001b[1;33m)\u001b[0m\u001b[1;33m\u001b[0m\u001b[1;33m\u001b[0m\u001b[0m\n\u001b[0m\u001b[0;32m    644\u001b[0m \u001b[1;33m\u001b[0m\u001b[0m\n\u001b[0;32m    645\u001b[0m                 \u001b[1;31m# TODO(extension)\u001b[0m\u001b[1;33m\u001b[0m\u001b[1;33m\u001b[0m\u001b[1;33m\u001b[0m\u001b[0m\n",
      "\u001b[1;32mc:\\users\\dpriyareddypothul\\appdata\\local\\programs\\python\\python37-32\\lib\\site-packages\\pandas\\core\\dtypes\\cast.py\u001b[0m in \u001b[0;36mastype_nansafe\u001b[1;34m(arr, dtype, copy, skipna)\u001b[0m\n\u001b[0;32m    705\u001b[0m         \u001b[1;31m# work around NumPy brokenness, #1987\u001b[0m\u001b[1;33m\u001b[0m\u001b[1;33m\u001b[0m\u001b[1;33m\u001b[0m\u001b[0m\n\u001b[0;32m    706\u001b[0m         \u001b[1;32mif\u001b[0m \u001b[0mnp\u001b[0m\u001b[1;33m.\u001b[0m\u001b[0missubdtype\u001b[0m\u001b[1;33m(\u001b[0m\u001b[0mdtype\u001b[0m\u001b[1;33m.\u001b[0m\u001b[0mtype\u001b[0m\u001b[1;33m,\u001b[0m \u001b[0mnp\u001b[0m\u001b[1;33m.\u001b[0m\u001b[0minteger\u001b[0m\u001b[1;33m)\u001b[0m\u001b[1;33m:\u001b[0m\u001b[1;33m\u001b[0m\u001b[1;33m\u001b[0m\u001b[0m\n\u001b[1;32m--> 707\u001b[1;33m             \u001b[1;32mreturn\u001b[0m \u001b[0mlib\u001b[0m\u001b[1;33m.\u001b[0m\u001b[0mastype_intsafe\u001b[0m\u001b[1;33m(\u001b[0m\u001b[0marr\u001b[0m\u001b[1;33m.\u001b[0m\u001b[0mravel\u001b[0m\u001b[1;33m(\u001b[0m\u001b[1;33m)\u001b[0m\u001b[1;33m,\u001b[0m \u001b[0mdtype\u001b[0m\u001b[1;33m)\u001b[0m\u001b[1;33m.\u001b[0m\u001b[0mreshape\u001b[0m\u001b[1;33m(\u001b[0m\u001b[0marr\u001b[0m\u001b[1;33m.\u001b[0m\u001b[0mshape\u001b[0m\u001b[1;33m)\u001b[0m\u001b[1;33m\u001b[0m\u001b[1;33m\u001b[0m\u001b[0m\n\u001b[0m\u001b[0;32m    708\u001b[0m \u001b[1;33m\u001b[0m\u001b[0m\n\u001b[0;32m    709\u001b[0m         \u001b[1;31m# if we have a datetime/timedelta array of objects\u001b[0m\u001b[1;33m\u001b[0m\u001b[1;33m\u001b[0m\u001b[1;33m\u001b[0m\u001b[0m\n",
      "\u001b[1;32mpandas/_libs/lib.pyx\u001b[0m in \u001b[0;36mpandas._libs.lib.astype_intsafe\u001b[1;34m()\u001b[0m\n",
      "\u001b[1;31mValueError\u001b[0m: invalid literal for int() with base 10: '$125,000.00 '"
     ]
    }
   ],
   "source": [
    "df['2016'] = df['2016'].astype('int')"
   ]
  },
  {
   "cell_type": "code",
   "execution_count": 116,
   "metadata": {},
   "outputs": [
    {
     "name": "stdout",
     "output_type": "stream",
     "text": [
      "\n",
      "\n",
      "    Customer Number     Customer Name          2016            2017  \\\n",
      "0            10002  Quest Industries  $125,000.00     $162,500.00    \n",
      "1           552278    Smith Plumbing  $920,000.00   $1,012,000.00    \n",
      "2            23477   ACME Industrial   $50,000.00      $62,500.00    \n",
      "3            24900        Brekke LTD  $350,000.00     $490,000.00    \n",
      "4           651029         Harbor Co   $15,000.00      $12,750.00    \n",
      "\n",
      "  Percent Growth Jan Units  Month  Day  Year Active  \n",
      "0         30.00%       500      1   10  2015      Y  \n",
      "1         10.00%       700      6   15  2014      Y  \n",
      "2         25.00%       125      3   29  2016      Y  \n",
      "3          4.00%        75     10   27  2015      Y  \n",
      "4        -15.00%    Closed      2    2  2014      N  \n"
     ]
    }
   ],
   "source": [
    "print('\\n\\n', df)"
   ]
  },
  {
   "cell_type": "markdown",
   "metadata": {},
   "source": [
    "# So, from the above examples it is evident that \"astype() will work only if -the data is clean and can be simply inrepreted as a number -you want to convert numeric value to string object\".        #As it is evident from above that all the values in the ['Active'] column are treated as True desipte last value being false. And value error is throw when we try to change dtype of 2016,2017 columns because of dollar sign and period sign in the values."
   ]
  },
  {
   "cell_type": "code",
   "execution_count": 117,
   "metadata": {},
   "outputs": [],
   "source": [
    "def convert_currency(val):\n",
    "    new_val = val.replace(',','').replace('$','')\n",
    "    return float(new_val)\n"
   ]
  },
  {
   "cell_type": "code",
   "execution_count": 118,
   "metadata": {},
   "outputs": [
    {
     "name": "stdout",
     "output_type": "stream",
     "text": [
      "<class 'pandas.core.frame.DataFrame'>\n",
      "RangeIndex: 5 entries, 0 to 4\n",
      "Data columns (total 10 columns):\n",
      "Customer Number    5 non-null int64\n",
      "Customer Name      5 non-null object\n",
      "2016               5 non-null object\n",
      "2017               5 non-null object\n",
      "Percent Growth     5 non-null object\n",
      "Jan Units          5 non-null object\n",
      "Month              5 non-null int64\n",
      "Day                5 non-null int64\n",
      "Year               5 non-null int64\n",
      "Active             5 non-null object\n",
      "dtypes: int64(4), object(6)\n",
      "memory usage: 344.0+ bytes\n",
      "None\n"
     ]
    }
   ],
   "source": [
    "print (df.info())"
   ]
  },
  {
   "cell_type": "code",
   "execution_count": 119,
   "metadata": {},
   "outputs": [
    {
     "name": "stdout",
     "output_type": "stream",
     "text": [
      "Customer Number      int64\n",
      "Customer Name       object\n",
      "2016               float64\n",
      "2017               float64\n",
      "Percent Growth      object\n",
      "Jan Units           object\n",
      "Month                int64\n",
      "Day                  int64\n",
      "Year                 int64\n",
      "Active              object\n",
      "dtype: object\n"
     ]
    }
   ],
   "source": [
    "df['2016'] = df['2016'].apply(convert_currency)\n",
    "df['2017'] = df['2017'].apply(convert_currency)\n",
    "print(df.dtypes)"
   ]
  },
  {
   "cell_type": "code",
   "execution_count": 120,
   "metadata": {},
   "outputs": [],
   "source": [
    "df['Percent Growth'] = df['Percent Growth'].apply(lambda x: x.replace('%','')).astype('float')/100"
   ]
  },
  {
   "cell_type": "code",
   "execution_count": 121,
   "metadata": {},
   "outputs": [],
   "source": [
    "def convert_percent(val):\n",
    "    new_val = val.replace('%','')\n",
    "    return float(new_val)/100\n"
   ]
  },
  {
   "cell_type": "code",
   "execution_count": 122,
   "metadata": {},
   "outputs": [
    {
     "name": "stdout",
     "output_type": "stream",
     "text": [
      "<class 'pandas.core.frame.DataFrame'>\n",
      "RangeIndex: 5 entries, 0 to 4\n",
      "Data columns (total 10 columns):\n",
      "Customer Number    5 non-null int64\n",
      "Customer Name      5 non-null object\n",
      "2016               5 non-null float64\n",
      "2017               5 non-null float64\n",
      "Percent Growth     5 non-null float64\n",
      "Jan Units          5 non-null object\n",
      "Month              5 non-null int64\n",
      "Day                5 non-null int64\n",
      "Year               5 non-null int64\n",
      "Active             5 non-null object\n",
      "dtypes: float64(3), int64(4), object(3)\n",
      "memory usage: 404.0+ bytes\n",
      "None\n"
     ]
    }
   ],
   "source": [
    "print(df.info())"
   ]
  },
  {
   "cell_type": "code",
   "execution_count": 123,
   "metadata": {},
   "outputs": [
    {
     "name": "stdout",
     "output_type": "stream",
     "text": [
      "0    Y\n",
      "1    Y\n",
      "2    Y\n",
      "3    Y\n",
      "4    N\n",
      "Name: Active, dtype: object\n"
     ]
    }
   ],
   "source": [
    "print(df['Active'])"
   ]
  },
  {
   "cell_type": "code",
   "execution_count": 134,
   "metadata": {},
   "outputs": [
    {
     "name": "stdout",
     "output_type": "stream",
     "text": [
      "   Customer Number     Customer Name      2016       2017  Percent Growth  \\\n",
      "0            10002  Quest Industries  125000.0   162500.0            0.30   \n",
      "1           552278    Smith Plumbing  920000.0  1012000.0            0.10   \n",
      "2            23477   ACME Industrial   50000.0    62500.0            0.25   \n",
      "3            24900        Brekke LTD  350000.0   490000.0            0.04   \n",
      "4           651029         Harbor Co   15000.0    12750.0           -0.15   \n",
      "\n",
      "  Jan Units  Month  Day  Year Active  \n",
      "0       500      1   10  2015  False  \n",
      "1       700      6   15  2014  False  \n",
      "2       125      3   29  2016  False  \n",
      "3        75     10   27  2015  False  \n",
      "4    Closed      2    2  2014  False  \n"
     ]
    }
   ],
   "source": [
    "print(df)"
   ]
  },
  {
   "cell_type": "code",
   "execution_count": 133,
   "metadata": {},
   "outputs": [
    {
     "name": "stdout",
     "output_type": "stream",
     "text": [
      "   Customer Number     Customer Name      2016       2017  Percent Growth  \\\n",
      "0            10002  Quest Industries  125000.0   162500.0            0.30   \n",
      "1           552278    Smith Plumbing  920000.0  1012000.0            0.10   \n",
      "2            23477   ACME Industrial   50000.0    62500.0            0.25   \n",
      "3            24900        Brekke LTD  350000.0   490000.0            0.04   \n",
      "4           651029         Harbor Co   15000.0    12750.0           -0.15   \n",
      "\n",
      "  Jan Units  Month  Day  Year Active  \n",
      "0       500      1   10  2015  False  \n",
      "1       700      6   15  2014  False  \n",
      "2       125      3   29  2016  False  \n",
      "3        75     10   27  2015  False  \n",
      "4    Closed      2    2  2014  False  \n"
     ]
    }
   ],
   "source": [
    "import numpy as np\n",
    "df[\"Active\"] = np.where(df[\"Active\"] == 'Y', \"True\",False')\n",
    "print(df)"
   ]
  },
  {
   "cell_type": "code",
   "execution_count": 135,
   "metadata": {},
   "outputs": [
    {
     "name": "stdout",
     "output_type": "stream",
     "text": [
      "Customer Number      int64\n",
      "Customer Name       object\n",
      "2016               float64\n",
      "2017               float64\n",
      "Percent Growth     float64\n",
      "Jan Units           object\n",
      "Month                int64\n",
      "Day                  int64\n",
      "Year                 int64\n",
      "Active              object\n",
      "dtype: object\n"
     ]
    }
   ],
   "source": [
    "print(df.dtypes)"
   ]
  },
  {
   "cell_type": "code",
   "execution_count": 136,
   "metadata": {},
   "outputs": [],
   "source": [
    "df['Active'] = df['Active'].astype(bool)"
   ]
  },
  {
   "cell_type": "code",
   "execution_count": 137,
   "metadata": {},
   "outputs": [
    {
     "name": "stdout",
     "output_type": "stream",
     "text": [
      "   Customer Number     Customer Name      2016       2017  Percent Growth  \\\n",
      "0            10002  Quest Industries  125000.0   162500.0            0.30   \n",
      "1           552278    Smith Plumbing  920000.0  1012000.0            0.10   \n",
      "2            23477   ACME Industrial   50000.0    62500.0            0.25   \n",
      "3            24900        Brekke LTD  350000.0   490000.0            0.04   \n",
      "4           651029         Harbor Co   15000.0    12750.0           -0.15   \n",
      "\n",
      "  Jan Units  Month  Day  Year  Active  \n",
      "0       500      1   10  2015    True  \n",
      "1       700      6   15  2014    True  \n",
      "2       125      3   29  2016    True  \n",
      "3        75     10   27  2015    True  \n",
      "4    Closed      2    2  2014    True  \n"
     ]
    }
   ],
   "source": [
    "print(df)"
   ]
  },
  {
   "cell_type": "code",
   "execution_count": 138,
   "metadata": {},
   "outputs": [
    {
     "name": "stdout",
     "output_type": "stream",
     "text": [
      "<class 'pandas.core.frame.DataFrame'>\n",
      "RangeIndex: 5 entries, 0 to 4\n",
      "Data columns (total 10 columns):\n",
      "Customer Number    5 non-null int64\n",
      "Customer Name      5 non-null object\n",
      "2016               5 non-null float64\n",
      "2017               5 non-null float64\n",
      "Percent Growth     5 non-null float64\n",
      "Jan Units          5 non-null object\n",
      "Month              5 non-null int64\n",
      "Day                5 non-null int64\n",
      "Year               5 non-null int64\n",
      "Active             5 non-null bool\n",
      "dtypes: bool(1), float64(3), int64(4), object(2)\n",
      "memory usage: 389.0+ bytes\n",
      "None\n"
     ]
    }
   ],
   "source": [
    "print(df.info())"
   ]
  },
  {
   "cell_type": "code",
   "execution_count": 140,
   "metadata": {},
   "outputs": [
    {
     "data": {
      "text/plain": [
       "0   2015-01-10\n",
       "1   2014-06-15\n",
       "2   2016-03-29\n",
       "3   2015-10-27\n",
       "4   2014-02-02\n",
       "dtype: datetime64[ns]"
      ]
     },
     "execution_count": 140,
     "metadata": {},
     "output_type": "execute_result"
    }
   ],
   "source": [
    "import pandas as pd\n",
    "pd.to_datetime(df[['Month','Day','Year']])"
   ]
  },
  {
   "cell_type": "code",
   "execution_count": 141,
   "metadata": {},
   "outputs": [
    {
     "name": "stdout",
     "output_type": "stream",
     "text": [
      "   Customer Number     Customer Name      2016       2017  Percent Growth  \\\n",
      "0            10002  Quest Industries  125000.0   162500.0            0.30   \n",
      "1           552278    Smith Plumbing  920000.0  1012000.0            0.10   \n",
      "2            23477   ACME Industrial   50000.0    62500.0            0.25   \n",
      "3            24900        Brekke LTD  350000.0   490000.0            0.04   \n",
      "4           651029         Harbor Co   15000.0    12750.0           -0.15   \n",
      "\n",
      "  Jan Units  Month  Day  Year  Active  \n",
      "0       500      1   10  2015    True  \n",
      "1       700      6   15  2014    True  \n",
      "2       125      3   29  2016    True  \n",
      "3        75     10   27  2015    True  \n",
      "4    Closed      2    2  2014    True  \n"
     ]
    }
   ],
   "source": [
    "print(df)"
   ]
  },
  {
   "cell_type": "code",
   "execution_count": 144,
   "metadata": {},
   "outputs": [
    {
     "name": "stdout",
     "output_type": "stream",
     "text": [
      "   Customer Number     Customer Name      2016       2017  Percent Growth  \\\n",
      "0            10002  Quest Industries  125000.0   162500.0            0.30   \n",
      "1           552278    Smith Plumbing  920000.0  1012000.0            0.10   \n",
      "2            23477   ACME Industrial   50000.0    62500.0            0.25   \n",
      "3            24900        Brekke LTD  350000.0   490000.0            0.04   \n",
      "4           651029         Harbor Co   15000.0    12750.0           -0.15   \n",
      "\n",
      "  Jan Units  Month  Day  Year  Active Start_Date  \n",
      "0       500      1   10  2015    True 2015-01-10  \n",
      "1       700      6   15  2014    True 2014-06-15  \n",
      "2       125      3   29  2016    True 2016-03-29  \n",
      "3        75     10   27  2015    True 2015-10-27  \n",
      "4    Closed      2    2  2014    True 2014-02-02  \n"
     ]
    }
   ],
   "source": [
    "df[\"Start_Date\"] = pd.to_datetime(df[['Month','Day','Year']])\n",
    "print(df)"
   ]
  },
  {
   "cell_type": "code",
   "execution_count": 145,
   "metadata": {},
   "outputs": [
    {
     "name": "stdout",
     "output_type": "stream",
     "text": [
      "<class 'pandas.core.frame.DataFrame'>\n",
      "RangeIndex: 5 entries, 0 to 4\n",
      "Data columns (total 11 columns):\n",
      "Customer Number    5 non-null int64\n",
      "Customer Name      5 non-null object\n",
      "2016               5 non-null float64\n",
      "2017               5 non-null float64\n",
      "Percent Growth     5 non-null float64\n",
      "Jan Units          5 non-null object\n",
      "Month              5 non-null int64\n",
      "Day                5 non-null int64\n",
      "Year               5 non-null int64\n",
      "Active             5 non-null bool\n",
      "Start_Date         5 non-null datetime64[ns]\n",
      "dtypes: bool(1), datetime64[ns](1), float64(3), int64(4), object(2)\n",
      "memory usage: 429.0+ bytes\n",
      "None\n"
     ]
    }
   ],
   "source": [
    "print(df.info())"
   ]
  },
  {
   "cell_type": "code",
   "execution_count": 146,
   "metadata": {},
   "outputs": [],
   "source": [
    "df['Jan Units'] = pd.to_numeric(df['Jan Units'],errors='coerce').fillna(0)"
   ]
  },
  {
   "cell_type": "code",
   "execution_count": 147,
   "metadata": {},
   "outputs": [
    {
     "name": "stdout",
     "output_type": "stream",
     "text": [
      "   Customer Number     Customer Name      2016       2017  Percent Growth  \\\n",
      "0            10002  Quest Industries  125000.0   162500.0            0.30   \n",
      "1           552278    Smith Plumbing  920000.0  1012000.0            0.10   \n",
      "2            23477   ACME Industrial   50000.0    62500.0            0.25   \n",
      "3            24900        Brekke LTD  350000.0   490000.0            0.04   \n",
      "4           651029         Harbor Co   15000.0    12750.0           -0.15   \n",
      "\n",
      "   Jan Units  Month  Day  Year  Active Start_Date  \n",
      "0      500.0      1   10  2015    True 2015-01-10  \n",
      "1      700.0      6   15  2014    True 2014-06-15  \n",
      "2      125.0      3   29  2016    True 2016-03-29  \n",
      "3       75.0     10   27  2015    True 2015-10-27  \n",
      "4        0.0      2    2  2014    True 2014-02-02  \n"
     ]
    }
   ],
   "source": [
    "print(df)"
   ]
  },
  {
   "cell_type": "code",
   "execution_count": 148,
   "metadata": {},
   "outputs": [
    {
     "name": "stdout",
     "output_type": "stream",
     "text": [
      "<class 'pandas.core.frame.DataFrame'>\n",
      "RangeIndex: 5 entries, 0 to 4\n",
      "Data columns (total 11 columns):\n",
      "Customer Number    5 non-null int64\n",
      "Customer Name      5 non-null object\n",
      "2016               5 non-null float64\n",
      "2017               5 non-null float64\n",
      "Percent Growth     5 non-null float64\n",
      "Jan Units          5 non-null float64\n",
      "Month              5 non-null int64\n",
      "Day                5 non-null int64\n",
      "Year               5 non-null int64\n",
      "Active             5 non-null bool\n",
      "Start_Date         5 non-null datetime64[ns]\n",
      "dtypes: bool(1), datetime64[ns](1), float64(4), int64(4), object(1)\n",
      "memory usage: 449.0+ bytes\n",
      "None\n"
     ]
    }
   ],
   "source": [
    "print(df.info())"
   ]
  },
  {
   "cell_type": "code",
   "execution_count": null,
   "metadata": {},
   "outputs": [],
   "source": []
  }
 ],
 "metadata": {
  "kernelspec": {
   "display_name": "Python 3",
   "language": "python",
   "name": "python3"
  },
  "language_info": {
   "codemirror_mode": {
    "name": "ipython",
    "version": 3
   },
   "file_extension": ".py",
   "mimetype": "text/x-python",
   "name": "python",
   "nbconvert_exporter": "python",
   "pygments_lexer": "ipython3",
   "version": "3.7.4"
  }
 },
 "nbformat": 4,
 "nbformat_minor": 2
}
