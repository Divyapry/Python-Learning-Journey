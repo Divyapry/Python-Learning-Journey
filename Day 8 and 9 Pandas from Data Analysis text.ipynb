{
 "cells": [
  {
   "cell_type": "code",
   "execution_count": 53,
   "metadata": {},
   "outputs": [
    {
     "name": "stdout",
     "output_type": "stream",
     "text": [
      "   a  b  c  d message\n",
      "0  1  2  3  4   hello\n",
      "1  5  6  7  8  worlds\n"
     ]
    }
   ],
   "source": [
    "import pandas as pd\n",
    "df = pd.read_csv('ex1.csv')\n",
    "print(df)"
   ]
  },
  {
   "cell_type": "code",
   "execution_count": 5,
   "metadata": {},
   "outputs": [
    {
     "name": "stdout",
     "output_type": "stream",
     "text": [
      "     PassengerId  Survived  Pclass  \\\n",
      "0              1         0       3   \n",
      "1              2         1       1   \n",
      "2              3         1       3   \n",
      "3              4         1       1   \n",
      "4              5         0       3   \n",
      "..           ...       ...     ...   \n",
      "886          887         0       2   \n",
      "887          888         1       1   \n",
      "888          889         0       3   \n",
      "889          890         1       1   \n",
      "890          891         0       3   \n",
      "\n",
      "                                                  Name     Sex   Age  SibSp  \\\n",
      "0                              Braund, Mr. Owen Harris    male  22.0      1   \n",
      "1    Cumings, Mrs. John Bradley (Florence Briggs Th...  female  38.0      1   \n",
      "2                               Heikkinen, Miss. Laina  female  26.0      0   \n",
      "3         Futrelle, Mrs. Jacques Heath (Lily May Peel)  female  35.0      1   \n",
      "4                             Allen, Mr. William Henry    male  35.0      0   \n",
      "..                                                 ...     ...   ...    ...   \n",
      "886                              Montvila, Rev. Juozas    male  27.0      0   \n",
      "887                       Graham, Miss. Margaret Edith  female  19.0      0   \n",
      "888           Johnston, Miss. Catherine Helen \"Carrie\"  female   NaN      1   \n",
      "889                              Behr, Mr. Karl Howell    male  26.0      0   \n",
      "890                                Dooley, Mr. Patrick    male  32.0      0   \n",
      "\n",
      "     Parch            Ticket     Fare Cabin Embarked  \n",
      "0        0         A/5 21171   7.2500   NaN        S  \n",
      "1        0          PC 17599  71.2833   C85        C  \n",
      "2        0  STON/O2. 3101282   7.9250   NaN        S  \n",
      "3        0            113803  53.1000  C123        S  \n",
      "4        0            373450   8.0500   NaN        S  \n",
      "..     ...               ...      ...   ...      ...  \n",
      "886      0            211536  13.0000   NaN        S  \n",
      "887      0            112053  30.0000   B42        S  \n",
      "888      2        W./C. 6607  23.4500   NaN        S  \n",
      "889      0            111369  30.0000  C148        C  \n",
      "890      0            370376   7.7500   NaN        Q  \n",
      "\n",
      "[891 rows x 12 columns]\n"
     ]
    }
   ],
   "source": [
    "uf = pd.read_csv('C:\\\\Users\\\\dpriyareddypothul\\\\downloads\\\\titanic-data.csv')\n",
    "print(uf)"
   ]
  },
  {
   "cell_type": "code",
   "execution_count": 6,
   "metadata": {},
   "outputs": [
    {
     "name": "stdout",
     "output_type": "stream",
     "text": [
      "   PassengerId  Survived  Pclass  \\\n",
      "0            1         0       3   \n",
      "1            2         1       1   \n",
      "2            3         1       3   \n",
      "3            4         1       1   \n",
      "4            5         0       3   \n",
      "\n",
      "                                                Name     Sex   Age  SibSp  \\\n",
      "0                            Braund, Mr. Owen Harris    male  22.0      1   \n",
      "1  Cumings, Mrs. John Bradley (Florence Briggs Th...  female  38.0      1   \n",
      "2                             Heikkinen, Miss. Laina  female  26.0      0   \n",
      "3       Futrelle, Mrs. Jacques Heath (Lily May Peel)  female  35.0      1   \n",
      "4                           Allen, Mr. William Henry    male  35.0      0   \n",
      "\n",
      "   Parch            Ticket     Fare Cabin Embarked  \n",
      "0      0         A/5 21171   7.2500   NaN        S  \n",
      "1      0          PC 17599  71.2833   C85        C  \n",
      "2      0  STON/O2. 3101282   7.9250   NaN        S  \n",
      "3      0            113803  53.1000  C123        S  \n",
      "4      0            373450   8.0500   NaN        S  \n"
     ]
    }
   ],
   "source": [
    "print(uf.head(5))"
   ]
  },
  {
   "cell_type": "code",
   "execution_count": 7,
   "metadata": {},
   "outputs": [
    {
     "name": "stdout",
     "output_type": "stream",
     "text": [
      "   a  b  c  d message\n",
      "0  1  2  3  4   hello\n",
      "1  5  6  7  8  worlds\n"
     ]
    }
   ],
   "source": [
    "print(df.head(4))"
   ]
  },
  {
   "cell_type": "code",
   "execution_count": 8,
   "metadata": {},
   "outputs": [
    {
     "name": "stdout",
     "output_type": "stream",
     "text": [
      "object\n",
      "object\n",
      "int64\n"
     ]
    }
   ],
   "source": [
    "print(uf['Name'].dtypes)\n",
    "print(uf['Ticket'].dtypes)\n",
    "print(uf['Pclass'].dtypes)"
   ]
  },
  {
   "cell_type": "code",
   "execution_count": 9,
   "metadata": {},
   "outputs": [
    {
     "name": "stdout",
     "output_type": "stream",
     "text": [
      "   a  b  c  d message\n",
      "0  1  2  3  4   hello\n",
      "1  5  6  7  8  worlds\n"
     ]
    }
   ],
   "source": [
    "print(df)"
   ]
  },
  {
   "cell_type": "code",
   "execution_count": 10,
   "metadata": {},
   "outputs": [
    {
     "name": "stdout",
     "output_type": "stream",
     "text": [
      "  Row1 Row2 Row3 Row4     Row5\n",
      "0    a    b    c    d  message\n",
      "1    1    2    3    4    hello\n",
      "2    5  NaN    7    8   worlds\n",
      "3    8    5    4    5      NaN\n",
      "4  NaN   5t    h    e      jhj\n"
     ]
    }
   ],
   "source": [
    "df= pd.read_csv(\"C:\\\\Users\\\\dpriyareddypothul\\\\documents\\\\M1M2\\\\DS-1\\\\ex1.csv\")\n",
    "print(df)"
   ]
  },
  {
   "cell_type": "code",
   "execution_count": 11,
   "metadata": {},
   "outputs": [
    {
     "name": "stdout",
     "output_type": "stream",
     "text": [
      "     a    b  c  d message\n",
      "0  1.0    2  3  4   hello\n",
      "1  5.0  NaN  7  8  worlds\n",
      "2  8.0    5  4  5     NaN\n",
      "3  NaN   5t  h  e     jhj\n"
     ]
    }
   ],
   "source": [
    "attr = \"C:\\\\Users\\\\dpriyareddypothul\\\\documents\\\\M1M2\\\\DS-1\\\\ex1.csv\"\n",
    "dfp = pd.read_csv(attr,skiprows=1,na_values=[\"no info\",\".\"])\n",
    "print(dfp)"
   ]
  },
  {
   "cell_type": "code",
   "execution_count": 12,
   "metadata": {},
   "outputs": [
    {
     "name": "stdout",
     "output_type": "stream",
     "text": [
      "      0     1     2     3        4\n",
      "0  Row1  Row2  Row3  Row4     Row5\n",
      "1     a     b     c     d  message\n",
      "2     1     2     3     4    hello\n",
      "3     5   NaN     7     8   worlds\n",
      "4     8     5     4     5      NaN\n",
      "5   NaN    5t     h     e      jhj\n"
     ]
    }
   ],
   "source": [
    "attr = \"C:\\\\Users\\\\dpriyareddypothul\\\\documents\\\\M1M2\\\\DS-1\\\\ex1.csv\"\n",
    "dfp = pd.read_csv(attr,header=None)\n",
    "print(dfp)"
   ]
  },
  {
   "cell_type": "code",
   "execution_count": 13,
   "metadata": {},
   "outputs": [
    {
     "name": "stdout",
     "output_type": "stream",
     "text": [
      "    A1   A2 A3 A4     TEXT\n",
      "0    a    b  c  d  message\n",
      "1    1    2  3  4    hello\n",
      "2    5  NaN  7  8   worlds\n",
      "3    8    5  4  5      NaN\n",
      "4  NaN   5t  h  e      jhj\n"
     ]
    }
   ],
   "source": [
    "attr = \"C:\\\\Users\\\\dpriyareddypothul\\\\documents\\\\M1M2\\\\DS-1\\\\ex1.csv\"\n",
    "dfp = pd.read_csv(attr,skiprows=1,names=['A1','A2','A3','A4','TEXT'])\n",
    "print(dfp)"
   ]
  },
  {
   "cell_type": "code",
   "execution_count": 14,
   "metadata": {},
   "outputs": [
    {
     "name": "stdout",
     "output_type": "stream",
     "text": [
      "          A1   A2 A3 A4\n",
      "TEXT                   \n",
      "message    a    b  c  d\n",
      "hello      1    2  3  4\n",
      "worlds     5  NaN  7  8\n",
      "NaN        8    5  4  5\n",
      "jhj      NaN   5t  h  e\n"
     ]
    }
   ],
   "source": [
    "attr = \"C:\\\\Users\\\\dpriyareddypothul\\\\documents\\\\M1M2\\\\DS-1\\\\ex1.csv\"\n",
    "dfp = pd.read_csv(attr,skiprows=1,names=['A1','A2','A3','A4','TEXT'], index_col='TEXT')\n",
    "print(dfp)"
   ]
  },
  {
   "cell_type": "code",
   "execution_count": 15,
   "metadata": {},
   "outputs": [
    {
     "name": "stdout",
     "output_type": "stream",
     "text": [
      "                  TEXT\n",
      "A4 A3 A1  A2          \n",
      "d  c  a   b    message\n",
      "4  3  1   2      hello\n",
      "8  7  5   NaN   worlds\n",
      "5  4  8   5        NaN\n",
      "e  h  NaN 5t       jhj\n"
     ]
    }
   ],
   "source": [
    "attr = \"C:\\\\Users\\\\dpriyareddypothul\\\\documents\\\\M1M2\\\\DS-1\\\\ex1.csv\"\n",
    "dfp = pd.read_csv(attr,skiprows=1,names=['A1','A2','A3','A4','TEXT'], \n",
    "                  index_col=['A4','A3','A1','A2'])\n",
    "print(dfp)"
   ]
  },
  {
   "cell_type": "code",
   "execution_count": 16,
   "metadata": {},
   "outputs": [
    {
     "name": "stdout",
     "output_type": "stream",
     "text": [
      "0    4\n",
      "1    7\n",
      "2    5\n",
      "3    6\n",
      "dtype: int64\n"
     ]
    }
   ],
   "source": [
    "import pandas as pd\n",
    "obj= pd.Series([4,7,5,6])\n",
    "print(obj)"
   ]
  },
  {
   "cell_type": "code",
   "execution_count": 17,
   "metadata": {},
   "outputs": [
    {
     "data": {
      "text/plain": [
       "array([4, 7, 5, 6], dtype=int64)"
      ]
     },
     "execution_count": 17,
     "metadata": {},
     "output_type": "execute_result"
    }
   ],
   "source": [
    "obj.values"
   ]
  },
  {
   "cell_type": "code",
   "execution_count": 18,
   "metadata": {},
   "outputs": [
    {
     "data": {
      "text/plain": [
       "RangeIndex(start=0, stop=4, step=1)"
      ]
     },
     "execution_count": 18,
     "metadata": {},
     "output_type": "execute_result"
    }
   ],
   "source": [
    "obj.index"
   ]
  },
  {
   "cell_type": "code",
   "execution_count": 19,
   "metadata": {},
   "outputs": [
    {
     "name": "stdout",
     "output_type": "stream",
     "text": [
      "a    4\n",
      "c    7\n",
      "l    6\n",
      "m    5\n",
      "dtype: int64\n"
     ]
    }
   ],
   "source": [
    "obj2= pd.Series([4,7,6,5],index=['a','c','l','m'])\n",
    "print(obj2)"
   ]
  },
  {
   "cell_type": "code",
   "execution_count": 20,
   "metadata": {},
   "outputs": [
    {
     "data": {
      "text/plain": [
       "Index(['a', 'c', 'l', 'm'], dtype='object')"
      ]
     },
     "execution_count": 20,
     "metadata": {},
     "output_type": "execute_result"
    }
   ],
   "source": [
    "obj2.index"
   ]
  },
  {
   "cell_type": "code",
   "execution_count": 21,
   "metadata": {},
   "outputs": [
    {
     "data": {
      "text/plain": [
       "a    4\n",
       "c    7\n",
       "m    5\n",
       "dtype: int64"
      ]
     },
     "execution_count": 21,
     "metadata": {},
     "output_type": "execute_result"
    }
   ],
   "source": [
    "obj2[['a','c','m']]"
   ]
  },
  {
   "cell_type": "code",
   "execution_count": 22,
   "metadata": {},
   "outputs": [
    {
     "data": {
      "text/plain": [
       "a    4\n",
       "c    7\n",
       "l    6\n",
       "m    5\n",
       "dtype: int64"
      ]
     },
     "execution_count": 22,
     "metadata": {},
     "output_type": "execute_result"
    }
   ],
   "source": [
    "obj2"
   ]
  },
  {
   "cell_type": "code",
   "execution_count": 23,
   "metadata": {},
   "outputs": [
    {
     "data": {
      "text/plain": [
       "c    7\n",
       "dtype: int64"
      ]
     },
     "execution_count": 23,
     "metadata": {},
     "output_type": "execute_result"
    }
   ],
   "source": [
    "obj2[obj2>6]"
   ]
  },
  {
   "cell_type": "code",
   "execution_count": 24,
   "metadata": {},
   "outputs": [
    {
     "data": {
      "text/plain": [
       "a     8\n",
       "c    14\n",
       "l    12\n",
       "m    10\n",
       "dtype: int64"
      ]
     },
     "execution_count": 24,
     "metadata": {},
     "output_type": "execute_result"
    }
   ],
   "source": [
    "obj2*2"
   ]
  },
  {
   "cell_type": "code",
   "execution_count": 25,
   "metadata": {},
   "outputs": [
    {
     "name": "stdout",
     "output_type": "stream",
     "text": [
      "mean is 5.5\n",
      "median is 5.5\n"
     ]
    }
   ],
   "source": [
    "import numpy as np\n",
    "print('mean is',np.mean(obj2))\n",
    "print('median is', np.median(obj2))"
   ]
  },
  {
   "cell_type": "code",
   "execution_count": 26,
   "metadata": {},
   "outputs": [
    {
     "data": {
      "text/plain": [
       "a    4\n",
       "c    7\n",
       "l    6\n",
       "m    5\n",
       "dtype: int64"
      ]
     },
     "execution_count": 26,
     "metadata": {},
     "output_type": "execute_result"
    }
   ],
   "source": [
    "obj2"
   ]
  },
  {
   "cell_type": "code",
   "execution_count": 27,
   "metadata": {},
   "outputs": [
    {
     "data": {
      "text/plain": [
       "False"
      ]
     },
     "execution_count": 27,
     "metadata": {},
     "output_type": "execute_result"
    }
   ],
   "source": [
    "7 in obj2"
   ]
  },
  {
   "cell_type": "code",
   "execution_count": 28,
   "metadata": {},
   "outputs": [
    {
     "data": {
      "text/plain": [
       "False"
      ]
     },
     "execution_count": 28,
     "metadata": {},
     "output_type": "execute_result"
    }
   ],
   "source": [
    "'b' in obj2"
   ]
  },
  {
   "cell_type": "code",
   "execution_count": 29,
   "metadata": {},
   "outputs": [
    {
     "data": {
      "text/plain": [
       "True"
      ]
     },
     "execution_count": 29,
     "metadata": {},
     "output_type": "execute_result"
    }
   ],
   "source": [
    "'c' in obj2"
   ]
  },
  {
   "cell_type": "code",
   "execution_count": 30,
   "metadata": {},
   "outputs": [
    {
     "name": "stdout",
     "output_type": "stream",
     "text": [
      "ohio      3500\n",
      "Texas     7100\n",
      "Oregon    1600\n",
      "Utah      5000\n",
      "dtype: int64\n"
     ]
    }
   ],
   "source": [
    "import pandas as pd\n",
    "sdata = {'ohio':3500,'Texas':7100,'Oregon':1600,'Utah':5000}\n",
    "obj3= pd.Series(sdata)\n",
    "print(obj3)"
   ]
  },
  {
   "cell_type": "code",
   "execution_count": 31,
   "metadata": {},
   "outputs": [
    {
     "name": "stdout",
     "output_type": "stream",
     "text": [
      "Oregon        1600.0\n",
      "Texas         7100.0\n",
      "ohio          3500.0\n",
      "California       NaN\n",
      "Virginia         NaN\n",
      "Utah          5000.0\n",
      "dtype: float64\n"
     ]
    }
   ],
   "source": [
    "states = {'California','Virginia','ohio','Texas','Oregon','Utah'}\n",
    "obj4 = pd.Series(sdata, index=states)\n",
    "print(obj4)"
   ]
  },
  {
   "cell_type": "code",
   "execution_count": 32,
   "metadata": {},
   "outputs": [
    {
     "data": {
      "text/plain": [
       "Oregon        False\n",
       "Texas         False\n",
       "ohio          False\n",
       "California     True\n",
       "Virginia       True\n",
       "Utah          False\n",
       "dtype: bool"
      ]
     },
     "execution_count": 32,
     "metadata": {},
     "output_type": "execute_result"
    }
   ],
   "source": [
    "#isnull and notfull functions in pandas should be used to detect missing data\n",
    "pd.isnull(obj4)"
   ]
  },
  {
   "cell_type": "code",
   "execution_count": 33,
   "metadata": {},
   "outputs": [
    {
     "data": {
      "text/plain": [
       "Oregon         True\n",
       "Texas          True\n",
       "ohio           True\n",
       "California    False\n",
       "Virginia      False\n",
       "Utah           True\n",
       "dtype: bool"
      ]
     },
     "execution_count": 33,
     "metadata": {},
     "output_type": "execute_result"
    }
   ],
   "source": [
    "pd.notnull(obj4)"
   ]
  },
  {
   "cell_type": "code",
   "execution_count": 34,
   "metadata": {},
   "outputs": [
    {
     "name": "stdout",
     "output_type": "stream",
     "text": [
      "obj3 data\n",
      " ohio      3500\n",
      "Texas     7100\n",
      "Oregon    1600\n",
      "Utah      5000\n",
      "dtype: int64\n",
      "\n",
      " obj4 data\n",
      " Oregon        1600.0\n",
      "Texas         7100.0\n",
      "ohio          3500.0\n",
      "California       NaN\n",
      "Virginia         NaN\n",
      "Utah          5000.0\n",
      "dtype: float64\n",
      "\n",
      "\n",
      " California        NaN\n",
      "Oregon         3200.0\n",
      "Texas         14200.0\n",
      "Utah          10000.0\n",
      "Virginia          NaN\n",
      "ohio           7000.0\n",
      "dtype: float64\n"
     ]
    }
   ],
   "source": [
    "print('obj3 data\\n',obj3)\n",
    "print('\\n obj4 data\\n',obj4)\n",
    "print('\\n\\n', obj3+obj4)"
   ]
  },
  {
   "cell_type": "code",
   "execution_count": 35,
   "metadata": {},
   "outputs": [
    {
     "name": "stdout",
     "output_type": "stream",
     "text": [
      "None\n",
      "Data 3 for test\n",
      "None\n"
     ]
    }
   ],
   "source": [
    "print(obj3.name)\n",
    "obj3.name= 'Data 3 for test'\n",
    "print(obj3.name)\n",
    "print(obj3.index.name)"
   ]
  },
  {
   "cell_type": "code",
   "execution_count": 36,
   "metadata": {},
   "outputs": [
    {
     "name": "stdout",
     "output_type": "stream",
     "text": [
      "23    3500\n",
      "24    7100\n",
      "25    1600\n",
      "26    5000\n",
      "Name: Data 3 for test, dtype: int64\n"
     ]
    }
   ],
   "source": [
    "obj3.index=['23','24','25','26']\n",
    "print(obj3)"
   ]
  },
  {
   "cell_type": "markdown",
   "metadata": {},
   "source": [
    "#DataFrames"
   ]
  },
  {
   "cell_type": "markdown",
   "metadata": {},
   "source": [
    "# DataFrame represents a tabular, spreadsheet-like data structure containing an ordered collection of columns,each of which can be of different value type(numeric, string, booleah etc.).DataFrame basically stores data as one or more two dimensional blocks."
   ]
  },
  {
   "cell_type": "code",
   "execution_count": 37,
   "metadata": {},
   "outputs": [
    {
     "name": "stdout",
     "output_type": "stream",
     "text": [
      "    state  year  pop\n",
      "0    Ohio  2000  1.5\n",
      "1    Ohio  2001  1.7\n",
      "2  nevada  2002  3.6\n",
      "3  Nevada  2003  2.9\n"
     ]
    }
   ],
   "source": [
    "data = {'state':['Ohio','Ohio','nevada','Nevada'],\n",
    "       'year':[2000,2001,2002,2003],\n",
    "       'pop':[1.5,1.7,3.6,2.9]}\n",
    "frame = pd.DataFrame(data)\n",
    "print(frame)"
   ]
  },
  {
   "cell_type": "code",
   "execution_count": 38,
   "metadata": {},
   "outputs": [
    {
     "name": "stdout",
     "output_type": "stream",
     "text": [
      "   year   state  pop date\n",
      "0  2000    Ohio  1.5  NaN\n",
      "1  2001    Ohio  1.7  NaN\n",
      "2  2002  nevada  3.6  NaN\n",
      "3  2003  Nevada  2.9  NaN\n"
     ]
    }
   ],
   "source": [
    "frame2 = pd.DataFrame(data,columns=['year','state','pop','date'])\n",
    "print(frame2)"
   ]
  },
  {
   "cell_type": "code",
   "execution_count": 39,
   "metadata": {},
   "outputs": [
    {
     "name": "stdout",
     "output_type": "stream",
     "text": [
      "Index(['year', 'state', 'pop', 'date'], dtype='object')\n"
     ]
    }
   ],
   "source": [
    "print(frame2.columns)"
   ]
  },
  {
   "cell_type": "code",
   "execution_count": 40,
   "metadata": {},
   "outputs": [
    {
     "name": "stdout",
     "output_type": "stream",
     "text": [
      "0      Ohio\n",
      "1      Ohio\n",
      "2    nevada\n",
      "3    Nevada\n",
      "Name: state, dtype: object\n"
     ]
    }
   ],
   "source": [
    "print(frame2['state'])"
   ]
  },
  {
   "cell_type": "code",
   "execution_count": 41,
   "metadata": {},
   "outputs": [
    {
     "name": "stdout",
     "output_type": "stream",
     "text": [
      "0    2000\n",
      "1    2001\n",
      "2    2002\n",
      "3    2003\n",
      "Name: year, dtype: int64\n"
     ]
    }
   ],
   "source": [
    "print(frame2.year)"
   ]
  },
  {
   "cell_type": "code",
   "execution_count": 42,
   "metadata": {},
   "outputs": [
    {
     "name": "stdout",
     "output_type": "stream",
     "text": [
      "state    Nevada\n",
      "year       2003\n",
      "pop         2.9\n",
      "Name: 3, dtype: object\n"
     ]
    }
   ],
   "source": [
    "print(frame.iloc[3])"
   ]
  },
  {
   "cell_type": "code",
   "execution_count": 43,
   "metadata": {},
   "outputs": [
    {
     "name": "stdout",
     "output_type": "stream",
     "text": [
      "   year   state  pop    date\n",
      "0  2000    Ohio  1.5  Dec 25\n",
      "1  2001    Ohio  1.7  Dec 25\n",
      "2  2002  nevada  3.6  Dec 25\n",
      "3  2003  Nevada  2.9  Dec 25\n",
      "\n",
      "\n",
      "    year   state  pop   date\n",
      "0  2000    Ohio  1.5  12/25\n",
      "1  2001    Ohio  1.7  12/25\n",
      "2  2002  nevada  3.6  12/25\n",
      "3  2003  Nevada  2.9  12/25\n"
     ]
    }
   ],
   "source": [
    "frame2.date = 'Dec 25'\n",
    "print(frame2)\n",
    "frame2['date'] = '12/25'\n",
    "print('\\n\\n',frame2)"
   ]
  },
  {
   "cell_type": "code",
   "execution_count": 44,
   "metadata": {},
   "outputs": [
    {
     "name": "stdout",
     "output_type": "stream",
     "text": [
      "[0 1 2 3]\n",
      "   year   state  pop   date  randoml\n",
      "0  2000    Ohio  1.5  12/25        0\n",
      "1  2001    Ohio  1.7  12/25        1\n",
      "2  2002  nevada  3.6  12/25        2\n",
      "3  2003  Nevada  2.9  12/25        3\n"
     ]
    }
   ],
   "source": [
    "import numpy as np\n",
    "randoml = np.arange(4)\n",
    "print(randoml)\n",
    "frame2['randoml'] = randoml\n",
    "print(frame2)"
   ]
  },
  {
   "cell_type": "code",
   "execution_count": 45,
   "metadata": {},
   "outputs": [
    {
     "name": "stdout",
     "output_type": "stream",
     "text": [
      "   year   state  pop   date  debt\n",
      "0  2000    Ohio  1.5  12/25     0\n",
      "1  2001    Ohio  1.7  12/25     1\n",
      "2  2002  nevada  3.6  12/25     2\n",
      "3  2003  Nevada  2.9  12/25     3\n",
      "\n",
      "\n",
      "    years   state  pop    dym  debt\n",
      "0   2000    Ohio  1.5  12/25     0\n",
      "1   2001    Ohio  1.7  12/25     1\n",
      "2   2002  nevada  3.6  12/25     2\n",
      "3   2003  Nevada  2.9  12/25     3\n"
     ]
    }
   ],
   "source": [
    "frame2.columns = ['year','state','pop','date','debt']\n",
    "frame3 = frame2.rename(columns={'year':'years','date':'dym'})\n",
    "print(frame2)\n",
    "print('\\n\\n',frame3)"
   ]
  },
  {
   "cell_type": "code",
   "execution_count": 46,
   "metadata": {},
   "outputs": [
    {
     "name": "stdout",
     "output_type": "stream",
     "text": [
      "   year   state  pop   date  debt\n",
      "0  2000    Ohio  1.5  12/25     0\n",
      "1  2001    Ohio  1.7  12/25     1\n",
      "2  2002  nevada  3.6  12/25     2\n",
      "3  2003  Nevada  2.9  12/25     3\n"
     ]
    }
   ],
   "source": [
    "print(frame2)"
   ]
  },
  {
   "cell_type": "code",
   "execution_count": 52,
   "metadata": {},
   "outputs": [
    {
     "name": "stdout",
     "output_type": "stream",
     "text": [
      "   year   state  pop  debt\n",
      "0  2000    Ohio  1.5     4\n",
      "1  2001    Ohio  1.7     3\n",
      "2  2002  nevada  3.6     1\n",
      "3  2003  Nevada  2.9     2\n"
     ]
    }
   ],
   "source": [
    "val= pd.Series([1,2,3,4],index=[2,3,1,0])\n",
    "frame2['debt']=val\n",
    "print(frame2)\n"
   ]
  },
  {
   "cell_type": "code",
   "execution_count": 48,
   "metadata": {},
   "outputs": [
    {
     "name": "stdout",
     "output_type": "stream",
     "text": [
      "   year   state  pop  debt\n",
      "0  2000    Ohio  1.5     4\n",
      "1  2001    Ohio  1.7     3\n",
      "2  2002  nevada  3.6     1\n",
      "3  2003  Nevada  2.9     2\n"
     ]
    }
   ],
   "source": [
    "del frame2['date']\n",
    "print(frame2)"
   ]
  },
  {
   "cell_type": "code",
   "execution_count": 51,
   "metadata": {},
   "outputs": [
    {
     "data": {
      "text/plain": [
       "Index(['year', 'state', 'pop', 'debt'], dtype='object')"
      ]
     },
     "execution_count": 51,
     "metadata": {},
     "output_type": "execute_result"
    }
   ],
   "source": [
    "frame2.columns"
   ]
  },
  {
   "cell_type": "code",
   "execution_count": 50,
   "metadata": {},
   "outputs": [
    {
     "data": {
      "text/plain": [
       "array([[2000, 'Ohio', 1.5, 4],\n",
       "       [2001, 'Ohio', 1.7, 3],\n",
       "       [2002, 'nevada', 3.6, 1],\n",
       "       [2003, 'Nevada', 2.9, 2]], dtype=object)"
      ]
     },
     "execution_count": 50,
     "metadata": {},
     "output_type": "execute_result"
    }
   ],
   "source": [
    "frame2.values"
   ]
  },
  {
   "cell_type": "code",
   "execution_count": null,
   "metadata": {},
   "outputs": [],
   "source": []
  }
 ],
 "metadata": {
  "kernelspec": {
   "display_name": "Python 3",
   "language": "python",
   "name": "python3"
  },
  "language_info": {
   "codemirror_mode": {
    "name": "ipython",
    "version": 3
   },
   "file_extension": ".py",
   "mimetype": "text/x-python",
   "name": "python",
   "nbconvert_exporter": "python",
   "pygments_lexer": "ipython3",
   "version": "3.7.4"
  }
 },
 "nbformat": 4,
 "nbformat_minor": 2
}
