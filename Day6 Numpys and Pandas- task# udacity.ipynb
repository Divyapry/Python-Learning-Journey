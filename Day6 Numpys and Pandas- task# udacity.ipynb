{
 "cells": [
  {
   "cell_type": "code",
   "execution_count": 1,
   "metadata": {},
   "outputs": [],
   "source": [
    "import numpy as np"
   ]
  },
  {
   "cell_type": "code",
   "execution_count": 2,
   "metadata": {},
   "outputs": [
    {
     "name": "stdout",
     "output_type": "stream",
     "text": [
      "[1 2 3 4 5]\n"
     ]
    }
   ],
   "source": [
    "numbers = np.array([1,2,3,4,5])\n",
    "print(numbers)"
   ]
  },
  {
   "cell_type": "code",
   "execution_count": 4,
   "metadata": {},
   "outputs": [
    {
     "name": "stdout",
     "output_type": "stream",
     "text": [
      "to find avegare of the numbers\n",
      "mean: 3.0\n",
      "median 3.0\n",
      "standard deviation 1.4142135623730951\n"
     ]
    }
   ],
   "source": [
    "print('to find avegare of the numbers')\n",
    "print('mean:',np.mean(numbers))\n",
    "print('median',np.median(numbers))\n",
    "print('standard deviation',np.std(numbers))"
   ]
  },
  {
   "cell_type": "code",
   "execution_count": 15,
   "metadata": {},
   "outputs": [
    {
     "name": "stdout",
     "output_type": "stream",
     "text": [
      "[1. 2. 3. 4.]\n",
      " \n",
      "[[1. 2. 3.]\n",
      " [4. 5. 6.]]\n"
     ]
    }
   ],
   "source": [
    "    array = np.array([1,2,3,4],float)\n",
    "    print(array)\n",
    "    print(\" \")\n",
    "    array = np.array([[1,2,3],[4,5,6]],float)\n",
    "    print(array)"
   ]
  },
  {
   "cell_type": "code",
   "execution_count": 20,
   "metadata": {},
   "outputs": [
    {
     "name": "stdout",
     "output_type": "stream",
     "text": [
      "[[1. 2. 3.]\n",
      " [4. 5. 7.]]\n",
      "\n",
      " 7.0\n",
      "\n",
      " [[1. 2. 3.]\n",
      " [4. 5. 7.]]\n"
     ]
    }
   ],
   "source": [
    "print(array)\n",
    "print ('\\n',array[1][2])\n",
    "\n",
    "array[1][2]=7\n",
    "\n",
    "print ('\\n',array)"
   ]
  },
  {
   "cell_type": "code",
   "execution_count": 30,
   "metadata": {},
   "outputs": [
    {
     "name": "stdout",
     "output_type": "stream",
     "text": [
      "      name  age   Fare  survived:\n",
      "a      Bob   22   7.25      False\n",
      "b      com   38  71.83       True\n",
      "c  Heikken   26    NaN       True\n",
      "d    allen   35   8.05      False\n"
     ]
    }
   ],
   "source": [
    "# creating a dictinery and then data frames\n",
    "import pandas as pd\n",
    "d = { 'name': pd.Series(['Bob','com','Heikken','allen'],index=['a','b','c','d']),\n",
    "       'age': pd.Series([22,38,26,35],index=['a','b','c','d']),\n",
    "       'Fare': pd.Series([7.25,71.83,8.05],index=['a','b','d']),\n",
    "     'survived:': pd.Series([False,True,True,False],index=['a','b','c','d'])}\n",
    "df = pd.DataFrame(d)\n",
    "print(df)"
   ]
  },
  {
   "cell_type": "code",
   "execution_count": 32,
   "metadata": {},
   "outputs": [
    {
     "name": "stdout",
     "output_type": "stream",
     "text": [
      "0       Dave\n",
      "1     chenug\n",
      "2    udacity\n",
      "3         42\n",
      "4      -1756\n",
      "dtype: object\n"
     ]
    }
   ],
   "source": [
    "# playing with series in Pandas\n",
    "import pandas as pd\n",
    "series = pd.Series(['Dave','chenug','udacity',42,-1756])\n",
    "print(series)\n"
   ]
  },
  {
   "cell_type": "code",
   "execution_count": 37,
   "metadata": {},
   "outputs": [
    {
     "name": "stdout",
     "output_type": "stream",
     "text": [
      "Instructor          Dave\n",
      "Curriculum Mgr    Cheung\n",
      "Course Num           359\n",
      "Power level         9001\n",
      "dtype: object\n"
     ]
    }
   ],
   "source": [
    "series2 = pd.Series(['Dave','Cheung',359,9001],\n",
    "                   index=['Instructor','Curriculum Mgr','Course Num','Power level'])\n",
    "print(series2)"
   ]
  },
  {
   "cell_type": "code",
   "execution_count": 44,
   "metadata": {},
   "outputs": [
    {
     "name": "stdout",
     "output_type": "stream",
     "text": [
      "Dave\n",
      "Course Num      359\n",
      "Power level    9001\n",
      "Instructor     Dave\n",
      "dtype: object\n"
     ]
    }
   ],
   "source": [
    "print( series2['Instructor'])\n",
    "print( series2[['Course Num','Power level','Instructor']])"
   ]
  },
  {
   "cell_type": "code",
   "execution_count": 49,
   "metadata": {
    "scrolled": true
   },
   "outputs": [
    {
     "name": "stdout",
     "output_type": "stream",
     "text": [
      "Cockroach    1\n",
      "Fish         2\n",
      "Mini Pig     3\n",
      "Puppy        4\n",
      "Kitten       5\n",
      "dtype: int64\n",
      "with cuteness greater than 3\n",
      " Cockroach    False\n",
      "Fish         False\n",
      "Mini Pig     False\n",
      "Puppy         True\n",
      "Kitten        True\n",
      "dtype: bool\n",
      "Puppy     4\n",
      "Kitten    5\n",
      "dtype: int64\n"
     ]
    }
   ],
   "source": [
    "cuteness = pd.Series([1,2,3,4,5],index=['Cockroach','Fish','Mini Pig','Puppy','Kitten'])\n",
    "print(cuteness)\n",
    "print('with cuteness greater than 3\\n',cuteness>3)\n",
    "print( cuteness[cuteness>3])"
   ]
  },
  {
   "cell_type": "code",
   "execution_count": 50,
   "metadata": {},
   "outputs": [
    {
     "name": "stdout",
     "output_type": "stream",
     "text": [
      "   years     team  wins  losses\n",
      "0   2010    Bears    11       5\n",
      "1   2011    Bears     8       8\n",
      "2   2012  Pacekrs    10       6\n",
      "3   2013  Packers     6       7\n",
      "4   2014    Lions    10       5\n",
      "5   2015    Lions    11       4\n"
     ]
    }
   ],
   "source": [
    "data = {'years' : [2010,2011,2012,2013,2014,2015],\n",
    "       'team':['Bears','Bears','Pacekrs','Packers','Lions','Lions'],\n",
    "       'wins':[11,8,10,6,10,11],\n",
    "       'losses':[5,8,6,7,5,4]}\n",
    "football= pd.DataFrame(data)\n",
    "print(football)"
   ]
  },
  {
   "cell_type": "code",
   "execution_count": 51,
   "metadata": {},
   "outputs": [
    {
     "name": "stdout",
     "output_type": "stream",
     "text": [
      "years      int64\n",
      "team      object\n",
      "wins       int64\n",
      "losses     int64\n",
      "dtype: object\n"
     ]
    }
   ],
   "source": [
    "print(football.dtypes)"
   ]
  },
  {
   "cell_type": "code",
   "execution_count": 52,
   "metadata": {},
   "outputs": [
    {
     "name": "stdout",
     "output_type": "stream",
     "text": [
      "             years       wins    losses\n",
      "count     6.000000   6.000000  6.000000\n",
      "mean   2012.500000   9.333333  5.833333\n",
      "std       1.870829   1.966384  1.471960\n",
      "min    2010.000000   6.000000  4.000000\n",
      "25%    2011.250000   8.500000  5.000000\n",
      "50%    2012.500000  10.000000  5.500000\n",
      "75%    2013.750000  10.750000  6.750000\n",
      "max    2015.000000  11.000000  8.000000\n"
     ]
    }
   ],
   "source": [
    "print(football.describe())"
   ]
  },
  {
   "cell_type": "code",
   "execution_count": 53,
   "metadata": {},
   "outputs": [
    {
     "name": "stdout",
     "output_type": "stream",
     "text": [
      "   years     team  wins  losses\n",
      "0   2010    Bears    11       5\n",
      "1   2011    Bears     8       8\n",
      "2   2012  Pacekrs    10       6\n",
      "3   2013  Packers     6       7\n",
      "4   2014    Lions    10       5\n"
     ]
    }
   ],
   "source": [
    "print(football.head())"
   ]
  },
  {
   "cell_type": "code",
   "execution_count": 54,
   "metadata": {},
   "outputs": [
    {
     "name": "stdout",
     "output_type": "stream",
     "text": [
      "   years     team  wins  losses\n",
      "1   2011    Bears     8       8\n",
      "2   2012  Pacekrs    10       6\n",
      "3   2013  Packers     6       7\n",
      "4   2014    Lions    10       5\n",
      "5   2015    Lions    11       4\n"
     ]
    }
   ],
   "source": [
    "print(football.tail())"
   ]
  },
  {
   "cell_type": "code",
   "execution_count": 55,
   "metadata": {},
   "outputs": [
    {
     "name": "stdout",
     "output_type": "stream",
     "text": [
      "      name  age   Fare  survived:\n",
      "a      Bob   22   7.25      False\n",
      "b      com   38  71.83       True\n",
      "c  Heikken   26    NaN       True\n",
      "d    allen   35   8.05      False\n"
     ]
    }
   ],
   "source": [
    "print(df)"
   ]
  },
  {
   "cell_type": "code",
   "execution_count": 59,
   "metadata": {},
   "outputs": [
    {
     "name": "stdout",
     "output_type": "stream",
     "text": [
      "to access teh columns of the df table\n",
      "\n",
      "a        Bob\n",
      "b        com\n",
      "c    Heikken\n",
      "d      allen\n",
      "Name: name, dtype: object\n",
      "\n",
      " access multiple columns\n",
      "      name  age\n",
      "a      Bob   22\n",
      "b      com   38\n",
      "c  Heikken   26\n",
      "d    allen   35\n"
     ]
    }
   ],
   "source": [
    "print('to access teh columns of the df table\\n')\n",
    "print(df['name'])\n",
    "print('\\n access multiple columns')\n",
    "print(df[['name','age']])"
   ]
  },
  {
   "cell_type": "code",
   "execution_count": 62,
   "metadata": {},
   "outputs": [
    {
     "name": "stdout",
     "output_type": "stream",
     "text": [
      "to access using index\n",
      "name         Heikken\n",
      "age               26\n",
      "Fare             NaN\n",
      "survived:       True\n",
      "Name: c, dtype: object\n"
     ]
    }
   ],
   "source": [
    "print('to access using index')\n",
    "print(df.loc['c'])"
   ]
  },
  {
   "cell_type": "code",
   "execution_count": 64,
   "metadata": {},
   "outputs": [
    {
     "name": "stdout",
     "output_type": "stream",
     "text": [
      "    name  age   Fare  survived:\n",
      "b    com   38  71.83       True\n",
      "d  allen   35   8.05      False\n"
     ]
    }
   ],
   "source": [
    "print(df[df['age']>=30])"
   ]
  },
  {
   "cell_type": "code",
   "execution_count": 66,
   "metadata": {},
   "outputs": [
    {
     "name": "stdout",
     "output_type": "stream",
     "text": [
      "b     True\n",
      "d    False\n",
      "Name: survived:, dtype: bool\n"
     ]
    }
   ],
   "source": [
    "print(df['survived:'][df['age']>=30])"
   ]
  },
  {
   "cell_type": "code",
   "execution_count": 67,
   "metadata": {},
   "outputs": [
    {
     "name": "stdout",
     "output_type": "stream",
     "text": [
      "   years     team  wins  losses\n",
      "0   2010    Bears    11       5\n",
      "1   2011    Bears     8       8\n",
      "2   2012  Pacekrs    10       6\n",
      "3   2013  Packers     6       7\n",
      "4   2014    Lions    10       5\n",
      "5   2015    Lions    11       4\n"
     ]
    }
   ],
   "source": [
    "print(football)"
   ]
  },
  {
   "cell_type": "code",
   "execution_count": 68,
   "metadata": {},
   "outputs": [
    {
     "name": "stdout",
     "output_type": "stream",
     "text": [
      "0    2010\n",
      "1    2011\n",
      "2    2012\n",
      "3    2013\n",
      "4    2014\n",
      "5    2015\n",
      "Name: years, dtype: int64\n"
     ]
    }
   ],
   "source": [
    "print(football['years'])"
   ]
  },
  {
   "cell_type": "code",
   "execution_count": 69,
   "metadata": {},
   "outputs": [
    {
     "name": "stdout",
     "output_type": "stream",
     "text": [
      "0      Bears\n",
      "1      Bears\n",
      "2    Pacekrs\n",
      "3    Packers\n",
      "4      Lions\n",
      "5      Lions\n",
      "Name: team, dtype: object\n"
     ]
    }
   ],
   "source": [
    "print(football.team)"
   ]
  },
  {
   "cell_type": "code",
   "execution_count": 71,
   "metadata": {},
   "outputs": [
    {
     "name": "stdout",
     "output_type": "stream",
     "text": [
      "   years     team  losses  wins\n",
      "0   2010    Bears       5    11\n",
      "1   2011    Bears       8     8\n",
      "2   2012  Pacekrs       6    10\n",
      "3   2013  Packers       7     6\n",
      "4   2014    Lions       5    10\n",
      "5   2015    Lions       4    11\n"
     ]
    }
   ],
   "source": [
    "print(football[['years','team','losses','wins']])"
   ]
  },
  {
   "cell_type": "code",
   "execution_count": 72,
   "metadata": {},
   "outputs": [
    {
     "name": "stdout",
     "output_type": "stream",
     "text": [
      "   years     team  wins  losses\n",
      "2   2012  Pacekrs    10       6\n"
     ]
    }
   ],
   "source": [
    "print(football.iloc[[2]])"
   ]
  },
  {
   "cell_type": "code",
   "execution_count": 74,
   "metadata": {},
   "outputs": [
    {
     "name": "stdout",
     "output_type": "stream",
     "text": [
      "years        2012\n",
      "team      Pacekrs\n",
      "wins           10\n",
      "losses          6\n",
      "Name: 2, dtype: object\n"
     ]
    }
   ],
   "source": [
    "print(football.loc[2])"
   ]
  },
  {
   "cell_type": "code",
   "execution_count": 75,
   "metadata": {},
   "outputs": [
    {
     "name": "stdout",
     "output_type": "stream",
     "text": [
      "   years     team  wins  losses\n",
      "3   2013  Packers     6       7\n",
      "4   2014    Lions    10       5\n"
     ]
    }
   ],
   "source": [
    "print(football[3:5])"
   ]
  },
  {
   "cell_type": "code",
   "execution_count": 78,
   "metadata": {},
   "outputs": [
    {
     "name": "stdout",
     "output_type": "stream",
     "text": [
      "   years   team  wins  losses\n",
      "0   2010  Bears    11       5\n",
      "5   2015  Lions    11       4\n"
     ]
    }
   ],
   "source": [
    "print(football[football.wins>10])"
   ]
  },
  {
   "cell_type": "code",
   "execution_count": 80,
   "metadata": {},
   "outputs": [
    {
     "name": "stdout",
     "output_type": "stream",
     "text": [
      "   years   team  wins  losses\n",
      "5   2015  Lions    11       4\n"
     ]
    }
   ],
   "source": [
    "print( football[(football.wins>10) & (football.team == 'Lions')])"
   ]
  },
  {
   "cell_type": "code",
   "execution_count": 87,
   "metadata": {},
   "outputs": [
    {
     "name": "stdout",
     "output_type": "stream",
     "text": [
      "   one  two\n",
      "0    1    1\n",
      "1    2    2\n",
      "2    3   34\n"
     ]
    }
   ],
   "source": [
    "import numpy as np\n",
    "import pandas as pd\n",
    "one = [1,2,3]\n",
    "two = [1,2,34]\n",
    "\n",
    "dict4 = {'one':pd.Series(one),'two':pd.Series(two)}\n",
    "df3= pd.DataFrame(dict4)\n",
    "print(df3)"
   ]
  },
  {
   "cell_type": "code",
   "execution_count": 90,
   "metadata": {},
   "outputs": [
    {
     "name": "stdout",
     "output_type": "stream",
     "text": [
      "one     2.000000\n",
      "two    12.333333\n",
      "dtype: float64\n",
      "one     0.816497\n",
      "two    15.326085\n",
      "dtype: float64\n"
     ]
    }
   ],
   "source": [
    "print(df3.apply(np.mean))\n",
    "\n",
    "print(df3.apply(np.std))"
   ]
  },
  {
   "cell_type": "code",
   "execution_count": 94,
   "metadata": {},
   "outputs": [
    {
     "name": "stdout",
     "output_type": "stream",
     "text": [
      "   years     team  wins  losses\n",
      "0   2010    Bears    11       5\n",
      "1   2011    Bears     8       8\n",
      "2   2012  Pacekrs    10       6\n",
      "3   2013  Packers     6       7\n",
      "4   2014    Lions    10       5\n",
      "5   2015    Lions    11       4\n"
     ]
    }
   ],
   "source": [
    "print(football)\n"
   ]
  },
  {
   "cell_type": "code",
   "execution_count": 95,
   "metadata": {},
   "outputs": [
    {
     "name": "stdout",
     "output_type": "stream",
     "text": [
      "2.0\n"
     ]
    }
   ],
   "source": [
    "b=np.mean(one)\n",
    "print(b)"
   ]
  },
  {
   "cell_type": "code",
   "execution_count": 109,
   "metadata": {},
   "outputs": [
    {
     "name": "stdout",
     "output_type": "stream",
     "text": [
      "0    6.115385\n",
      "1    3.730769\n",
      "2    3.807692\n",
      "dtype: float64\n"
     ]
    }
   ],
   "source": [
    "countries = ['Russian Fed.', 'Norway', 'Canada', 'United States',\n",
    "                 'Netherlands', 'Germany', 'Switzerland', 'Belarus',\n",
    "                 'Austria', 'France', 'Poland', 'China', 'Korea', \n",
    "                 'Sweden', 'Czech Republic', 'Slovenia', 'Japan',\n",
    "                 'Finland', 'Great Britain', 'Ukraine', 'Slovakia',\n",
    "                 'Italy', 'Latvia', 'Australia', 'Croatia', 'Kazakhstan']\n",
    "\n",
    "gold = [13, 11, 10, 9, 8, 8, 6, 5, 4, 4, 4, 3, 3, 2, 2, 2, 1, 1, 1, 1, 1,30, 10, 20, 0, 0]\n",
    "silver = [11, 5, 10, 7, 7, 6, 3, 0, 8, 4, 1, 4, 3, 7, 4, 2, 4, 3, 1, 0, 0, 2, 2, 2, 1, 0]\n",
    "bronze = [9, 10, 5, 12, 9, 5, 2, 1, 5, 7, 1, 2, 2, 6, 2, 4, 3, 1, 2, 1, 0, 6, 2, 1, 0, 1]\n",
    "    \n",
    "olympic_medal_counts = {'country_name':countries,\n",
    "                            'gold': pd.Series(gold),\n",
    "                            'silver': pd.Series(silver),\n",
    "                            'bronze': pd.Series(bronze)}    \n",
    "olympic_medal_counts_df = pd.DataFrame(olympic_medal_counts)\n",
    "a= np.mean(gold)\n",
    "b= np.mean(silver)\n",
    "c= np.mean(bronze)\n",
    "    \n",
    "avg_medal_count = pd.Series([a,b,c])\n",
    "print( avg_medal_count)"
   ]
  },
  {
   "cell_type": "code",
   "execution_count": 111,
   "metadata": {},
   "outputs": [
    {
     "name": "stdout",
     "output_type": "stream",
     "text": [
      "one line code for above can be as below: \n",
      "\n",
      "gold      6.115385\n",
      "silver    3.730769\n",
      "bronze    3.807692\n",
      "dtype: float64\n"
     ]
    }
   ],
   "source": [
    "print('one line code for above can be as below: \\n')\n",
    "avg_medal_count = olympic_medal_counts_df[['gold','silver','bronze']].apply(np.mean)\n",
    "print(avg_medal_count)"
   ]
  },
  {
   "cell_type": "code",
   "execution_count": null,
   "metadata": {},
   "outputs": [],
   "source": []
  }
 ],
 "metadata": {
  "kernelspec": {
   "display_name": "Python 3",
   "language": "python",
   "name": "python3"
  },
  "language_info": {
   "codemirror_mode": {
    "name": "ipython",
    "version": 3
   },
   "file_extension": ".py",
   "mimetype": "text/x-python",
   "name": "python",
   "nbconvert_exporter": "python",
   "pygments_lexer": "ipython3",
   "version": "3.7.4"
  }
 },
 "nbformat": 4,
 "nbformat_minor": 2
}
