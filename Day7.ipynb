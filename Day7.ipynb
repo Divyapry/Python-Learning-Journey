{
 "cells": [
  {
   "cell_type": "code",
   "execution_count": 1,
   "metadata": {},
   "outputs": [
    {
     "name": "stdout",
     "output_type": "stream",
     "text": [
      "[('b', 3), ('a', 4), ('c', 5)]\n"
     ]
    }
   ],
   "source": [
    "xs={'a':4,'b':3,'c':5}\n",
    "a=sorted(xs.items(),key=lambda x:x[1])\n",
    "print(a)"
   ]
  },
  {
   "cell_type": "code",
   "execution_count": 2,
   "metadata": {},
   "outputs": [
    {
     "name": "stdout",
     "output_type": "stream",
     "text": [
      "[('b', 3), ('a', 4), ('c', 5)]\n"
     ]
    }
   ],
   "source": [
    "import operator\n",
    "b=sorted(xs.items(),key=operator.itemgetter(1))\n",
    "print(b)"
   ]
  },
  {
   "cell_type": "code",
   "execution_count": 8,
   "metadata": {},
   "outputs": [
    {
     "name": "stdout",
     "output_type": "stream",
     "text": [
      "passed\n",
      "passed type2\n",
      "passsed type3\n"
     ]
    }
   ],
   "source": [
    "#different ways to test multiple flags at once\n",
    "x,y,z=0,1,0\n",
    "\n",
    "if x==1 or y==1 or z==1:\n",
    "    print('passed')\n",
    "    \n",
    "if 1 in (x,y,z):\n",
    "    print('passed type2')\n",
    "    \n",
    "if any((x,y,z)):\n",
    "    print('passsed type3')"
   ]
  },
  {
   "cell_type": "code",
   "execution_count": 10,
   "metadata": {},
   "outputs": [
    {
     "name": "stdout",
     "output_type": "stream",
     "text": [
      "{'a': 1, 'b': 2, 'c': 3, 'd': 4}\n",
      "{'a': 4, 'b': 6}\n"
     ]
    }
   ],
   "source": [
    "#merging two dictinoaries\n",
    "xs={'a':1,'b':2}\n",
    "ys={'c':3,'d':4}\n",
    "d={**xs,**ys}\n",
    "print(d)\n",
    "\n",
    "zs={'a':4,'b':6}\n",
    "print({**xs,**zs})"
   ]
  },
  {
   "cell_type": "code",
   "execution_count": null,
   "metadata": {},
   "outputs": [],
   "source": []
  }
 ],
 "metadata": {
  "kernelspec": {
   "display_name": "Python 3",
   "language": "python",
   "name": "python3"
  },
  "language_info": {
   "codemirror_mode": {
    "name": "ipython",
    "version": 3
   },
   "file_extension": ".py",
   "mimetype": "text/x-python",
   "name": "python",
   "nbconvert_exporter": "python",
   "pygments_lexer": "ipython3",
   "version": "3.7.4"
  }
 },
 "nbformat": 4,
 "nbformat_minor": 2
}
