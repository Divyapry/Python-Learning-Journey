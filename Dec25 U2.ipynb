{
 "cells": [
  {
   "cell_type": "code",
   "execution_count": 5,
   "metadata": {},
   "outputs": [
    {
     "name": "stdout",
     "output_type": "stream",
     "text": [
      "   First   Last\n",
      "0  Divya  Reddy\n",
      "1  Priya  Reddy\n",
      "2     DP  Reddy\n"
     ]
    }
   ],
   "source": [
    "import pandas as pd\n",
    "df = pd.read_csv('C:\\\\Users\\\\dpriyareddypothul\\\\documents\\\\M1M2\\\\DS-1\\\\Numpy\\\\master.csv')\n",
    "print (df)"
   ]
  },
  {
   "cell_type": "code",
   "execution_count": 35,
   "metadata": {},
   "outputs": [
    {
     "name": "stdout",
     "output_type": "stream",
     "text": [
      "   Unnamed: 0  Unnamed: 0.1  First   Last  nameFullex\n",
      "0           0             0  Divya  Reddy  DivyaReddy\n",
      "1           1             1  Priya  Reddy  PriyaReddy\n",
      "2           2             2     DP  Reddy     DPReddy\n"
     ]
    }
   ],
   "source": [
    "import pandas as pd\n",
    "frompath1 = 'C:\\\\Users\\\\dpriyareddypothul\\\\documents\\\\M1M2\\\\DS-1\\\\Numpy\\\\master.csv'\n",
    "topath2= 'C:\\\\Users\\\\dpriyareddypothul\\\\documents\\\\M1M2\\\\DS-1\\\\Numpy\\\\master3.csv'\n",
    "\n",
    "def add_full_name(frompath,topath):\n",
    "    df= pd.read_csv(frompath)\n",
    "    df['nameFull'] = df['First']+ df['Last']\n",
    "    df.to_csv('topath')\n",
    "    \n",
    "    \n",
    "\n",
    "frompath1 = 'C:\\\\Users\\\\dpriyareddypothul\\\\documents\\\\M1M2\\\\DS-1\\\\Numpy\\\\master.csv'\n",
    "topath2= 'C:\\\\Users\\\\dpriyareddypothul\\\\documents\\\\M1M2\\\\DS-1\\\\Numpy\\\\master3.csv'\n",
    "add_full_name(frompath1,topath2)\n",
    "df2= pd.read_csv('topath2')\n",
    "print(df2)\n"
   ]
  },
  {
   "cell_type": "code",
   "execution_count": 25,
   "metadata": {},
   "outputs": [
    {
     "name": "stdout",
     "output_type": "stream",
     "text": [
      "   Unnamed: 0  First   Last\n",
      "0           0  Divya  Reddy\n",
      "1           1  Priya  Reddy\n",
      "2           2     DP  Reddy\n",
      "   Unnamed: 0  First   Last     nameFull\n",
      "0           0  Divya  Reddy  Divya Reddy\n",
      "1           1  Priya  Reddy  Priya Reddy\n",
      "2           2     DP  Reddy     DP Reddy\n",
      "\n",
      " data in df3 is\n",
      "\n",
      "    Unnamed: 0  Unnamed: 0.1  First   Last     nameFull\n",
      "0           0             0  Divya  Reddy  Divya Reddy\n",
      "1           1             1  Priya  Reddy  Priya Reddy\n",
      "2           2             2     DP  Reddy     DP Reddy\n"
     ]
    }
   ],
   "source": [
    "df2=pd.read_csv('C:\\\\Users\\\\dpriyareddypothul\\\\documents\\\\M1M2\\\\DS-1\\\\Numpy\\\\master.csv')\n",
    "print(df2)\n",
    "df2['nameFull']= df2['First']+' '+df2['Last']\n",
    "print(df2)\n",
    "df2.to_csv('master3.csv')\n",
    "df3= pd.read_csv('master3.csv')\n",
    "print('\\n data in df3 is\\n\\n',df3)\n"
   ]
  },
  {
   "cell_type": "code",
   "execution_count": null,
   "metadata": {},
   "outputs": [],
   "source": []
  }
 ],
 "metadata": {
  "kernelspec": {
   "display_name": "Python 3",
   "language": "python",
   "name": "python3"
  },
  "language_info": {
   "codemirror_mode": {
    "name": "ipython",
    "version": 3
   },
   "file_extension": ".py",
   "mimetype": "text/x-python",
   "name": "python",
   "nbconvert_exporter": "python",
   "pygments_lexer": "ipython3",
   "version": "3.7.4"
  }
 },
 "nbformat": 4,
 "nbformat_minor": 2
}
