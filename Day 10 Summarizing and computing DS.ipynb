{
 "cells": [
  {
   "cell_type": "code",
   "execution_count": 2,
   "metadata": {},
   "outputs": [
    {
     "name": "stdout",
     "output_type": "stream",
     "text": [
      "    one  two\n",
      "a  1.40  NaN\n",
      "b  7.10 -4.5\n",
      "c   NaN  NaN\n",
      "d  0.75 -1.3\n"
     ]
    }
   ],
   "source": [
    "import pandas as pd\n",
    "import numpy as np\n",
    "df = pd.DataFrame([[1.4,np.nan],[7.1,-4.5],[np.nan,np.nan],[0.75,-1.3]],\n",
    "                 index = ['a','b','c','d'],\n",
    "                 columns = ['one','two'])\n",
    "print(df)"
   ]
  },
  {
   "cell_type": "code",
   "execution_count": 3,
   "metadata": {},
   "outputs": [
    {
     "name": "stdout",
     "output_type": "stream",
     "text": [
      "one    9.25\n",
      "two   -5.80\n",
      "dtype: float64\n"
     ]
    }
   ],
   "source": [
    "print(df.sum())"
   ]
  },
  {
   "cell_type": "code",
   "execution_count": 4,
   "metadata": {},
   "outputs": [
    {
     "name": "stdout",
     "output_type": "stream",
     "text": [
      "a    1.40\n",
      "b    2.60\n",
      "c    0.00\n",
      "d   -0.55\n",
      "dtype: float64\n"
     ]
    }
   ],
   "source": [
    "print(df.sum(axis=1))\n",
    "#this sums the rows instead"
   ]
  },
  {
   "cell_type": "code",
   "execution_count": 5,
   "metadata": {},
   "outputs": [
    {
     "name": "stdout",
     "output_type": "stream",
     "text": [
      "a     NaN\n",
      "b    2.60\n",
      "c     NaN\n",
      "d   -0.55\n",
      "dtype: float64\n"
     ]
    }
   ],
   "source": [
    "print(df.sum(axis=1, skipna=False))"
   ]
  },
  {
   "cell_type": "code",
   "execution_count": 6,
   "metadata": {},
   "outputs": [
    {
     "name": "stdout",
     "output_type": "stream",
     "text": [
      "one    9.25\n",
      "two   -5.80\n",
      "dtype: float64\n"
     ]
    }
   ],
   "source": [
    "print(df.sum(axis=0))\n",
    "# Axis is 0 for DataFrame's rows and 1 for columns"
   ]
  },
  {
   "cell_type": "code",
   "execution_count": 7,
   "metadata": {},
   "outputs": [
    {
     "name": "stdout",
     "output_type": "stream",
     "text": [
      "    one  two\n",
      "a  1.40  NaN\n",
      "b  7.10 -4.5\n",
      "c   NaN  NaN\n",
      "d  0.75 -1.3 \n",
      "\n",
      "\n",
      "one    d\n",
      "two    b\n",
      "dtype: object\n"
     ]
    }
   ],
   "source": [
    "#idxmin and idmax is used to return the indirect statistics like the index vale where \n",
    "#the minimum and maximum values are attained\n",
    "print(df,'\\n\\n')\n",
    "print(df.idxmin())"
   ]
  },
  {
   "cell_type": "code",
   "execution_count": 8,
   "metadata": {},
   "outputs": [
    {
     "name": "stdout",
     "output_type": "stream",
     "text": [
      "one    b\n",
      "two    d\n",
      "dtype: object\n"
     ]
    }
   ],
   "source": [
    "print(df.idxmax())"
   ]
  },
  {
   "cell_type": "code",
   "execution_count": 9,
   "metadata": {},
   "outputs": [
    {
     "name": "stdout",
     "output_type": "stream",
     "text": [
      "    one  two\n",
      "a  1.40  NaN\n",
      "b  8.50 -4.5\n",
      "c   NaN  NaN\n",
      "d  9.25 -5.8\n"
     ]
    }
   ],
   "source": [
    "# we can also calculate cummulative sum of the values\n",
    "print(df.cumsum(axis=0))"
   ]
  },
  {
   "cell_type": "code",
   "execution_count": 10,
   "metadata": {},
   "outputs": [
    {
     "name": "stdout",
     "output_type": "stream",
     "text": [
      "            one       two\n",
      "count  3.000000  2.000000\n",
      "mean   3.083333 -2.900000\n",
      "std    3.493685  2.262742\n",
      "min    0.750000 -4.500000\n",
      "25%    1.075000 -3.700000\n",
      "50%    1.400000 -2.900000\n",
      "75%    4.250000 -2.100000\n",
      "max    7.100000 -1.300000\n"
     ]
    }
   ],
   "source": [
    "print(df.describe())"
   ]
  },
  {
   "cell_type": "code",
   "execution_count": 11,
   "metadata": {},
   "outputs": [
    {
     "name": "stdout",
     "output_type": "stream",
     "text": [
      "    one  two\n",
      "a  1.40  NaN\n",
      "b  7.10 -4.5\n",
      "c   NaN  NaN\n",
      "d  0.75 -1.3 \n",
      "\n",
      "\n",
      "   one  two\n",
      "a  NaN  NaN\n",
      "b  5.7  NaN\n",
      "c  NaN  NaN\n",
      "d  NaN  NaN\n"
     ]
    }
   ],
   "source": [
    "print(df,'\\n\\n')\n",
    "print(df.diff())"
   ]
  },
  {
   "cell_type": "code",
   "execution_count": 12,
   "metadata": {},
   "outputs": [
    {
     "name": "stdout",
     "output_type": "stream",
     "text": [
      "['c' 'a' 'd' 'b']\n",
      "a    3\n",
      "b    2\n",
      "d    1\n",
      "c    1\n",
      "dtype: int64\n",
      "\n",
      " series can also be sorted by value in descending order by using value_counts \n",
      "\n",
      "c    1\n",
      "a    3\n",
      "d    1\n",
      "b    2\n",
      "dtype: int64\n"
     ]
    }
   ],
   "source": [
    "obj = pd.Series (['c','a','d','a','a','b','b'])\n",
    "unique= obj.unique()\n",
    "print(unique)\n",
    "\n",
    "print(obj.value_counts())\n",
    "\n",
    "print('\\n series can also be sorted by value in descending order by using value_counts \\n')\n",
    "\n",
    "print(pd.value_counts(obj.values,sort=False))"
   ]
  },
  {
   "cell_type": "markdown",
   "metadata": {},
   "source": [
    "# COMMON FUNCTIONS OF EXCEL IN PYTHON USING PANDAS"
   ]
  },
  {
   "cell_type": "code",
   "execution_count": 13,
   "metadata": {},
   "outputs": [
    {
     "name": "stdout",
     "output_type": "stream",
     "text": [
      "   account                         name                                street  \\\n",
      "0   211829   Kerluke, Koepp and Hilpert                    34456 Sean Highway   \n",
      "1   320563               Walter-Trantow                     1311 Alvis Tunnel   \n",
      "2   648336   Bashirian, Kunde and Price  62184 Schamberger Underpass Apt. 231   \n",
      "3   109996  D'Amore, Gleichner and Bode           155 Fadel Crescent Apt. 144   \n",
      "4   121213                Bauch-Goldner                   7274 Marissa Common   \n",
      "\n",
      "              city          state  postal-code abbrev     Jan     Feb    Mar  \n",
      "0       New Jaycob          Texas        28752     TX   10000   62000  35000  \n",
      "1    Port Khadijah  NorthCarolina        38365     NC   95000   45000  35000  \n",
      "2   New Lilianland           Iowa        76517     IW   91000  120000  35000  \n",
      "3       Hyattburgh          Maine        46021     MI   45000  120000  10000  \n",
      "4  Shanahanchester     California        49681     CA  162000  120000  35000  \n"
     ]
    }
   ],
   "source": [
    "import pandas as pd\n",
    "\n",
    "df = pd.read_excel(\"Ecomp-data.xlsx\")\n",
    "\n",
    "print(df.head())"
   ]
  },
  {
   "cell_type": "code",
   "execution_count": 14,
   "metadata": {},
   "outputs": [
    {
     "name": "stdout",
     "output_type": "stream",
     "text": [
      "   account                         name                                street  \\\n",
      "0   211829   Kerluke, Koepp and Hilpert                    34456 Sean Highway   \n",
      "1   320563               Walter-Trantow                     1311 Alvis Tunnel   \n",
      "2   648336   Bashirian, Kunde and Price  62184 Schamberger Underpass Apt. 231   \n",
      "3   109996  D'Amore, Gleichner and Bode           155 Fadel Crescent Apt. 144   \n",
      "4   121213                Bauch-Goldner                   7274 Marissa Common   \n",
      "\n",
      "              city          state  postal-code abbrev     Jan     Feb    Mar  \\\n",
      "0       New Jaycob          Texas        28752     TX   10000   62000  35000   \n",
      "1    Port Khadijah  NorthCarolina        38365     NC   95000   45000  35000   \n",
      "2   New Lilianland           Iowa        76517     IW   91000  120000  35000   \n",
      "3       Hyattburgh          Maine        46021     MI   45000  120000  10000   \n",
      "4  Shanahanchester     California        49681     CA  162000  120000  35000   \n",
      "\n",
      "    total  \n",
      "0  107000  \n",
      "1  175000  \n",
      "2  246000  \n",
      "3  175000  \n",
      "4  317000  \n"
     ]
    }
   ],
   "source": [
    "df['total']=df['Jan']+df['Feb']+df['Mar']\n",
    "print(df.head())"
   ]
  },
  {
   "cell_type": "code",
   "execution_count": 15,
   "metadata": {},
   "outputs": [
    {
     "name": "stdout",
     "output_type": "stream",
     "text": [
      "1462000 97466.66666666667 10000 162000\n"
     ]
    }
   ],
   "source": [
    "print( df['Jan'].sum(), df['Jan'].mean(),df['Jan'].min(),df['Jan'].max())"
   ]
  },
  {
   "cell_type": "code",
   "execution_count": 16,
   "metadata": {},
   "outputs": [
    {
     "name": "stdout",
     "output_type": "stream",
     "text": [
      "Jan      1462000\n",
      "Feb      1507000\n",
      "Mar       717000\n",
      "total    3686000\n",
      "dtype: int64\n"
     ]
    }
   ],
   "source": [
    "sum_row = df[['Jan','Feb','Mar','total']].sum()\n",
    "print(sum_row)"
   ]
  },
  {
   "cell_type": "code",
   "execution_count": 17,
   "metadata": {},
   "outputs": [
    {
     "name": "stdout",
     "output_type": "stream",
     "text": [
      "       Jan      Feb     Mar    total\n",
      "0  1462000  1507000  717000  3686000\n"
     ]
    }
   ],
   "source": [
    "# to add these row sum into the dataframe as a summation row, we intially\n",
    "#need to take the transpose of the sum_row, which allows to switch from being\n",
    "#row-based to column-based data\n",
    "df_sum= pd.DataFrame(data=sum_row).T\n",
    "print(df_sum)"
   ]
  },
  {
   "cell_type": "code",
   "execution_count": 18,
   "metadata": {},
   "outputs": [
    {
     "name": "stdout",
     "output_type": "stream",
     "text": [
      "   account  name  street  city  state  postal-code  abbrev      Jan      Feb  \\\n",
      "0      NaN   NaN     NaN   NaN    NaN          NaN     NaN  1462000  1507000   \n",
      "\n",
      "      Mar    total  \n",
      "0  717000  3686000  \n"
     ]
    }
   ],
   "source": [
    "# now to add these columns sum into excel first we need to fill in the \n",
    "#missing columns. For this we use reindex\n",
    "df_sum = df_sum.reindex(columns=df.columns)\n",
    "print(df_sum)"
   ]
  },
  {
   "cell_type": "code",
   "execution_count": 19,
   "metadata": {},
   "outputs": [
    {
     "name": "stdout",
     "output_type": "stream",
     "text": [
      "     account                          name                    street  \\\n",
      "11  231907.0                    Hahn-Moore  18115 Olivine Throughway   \n",
      "12  242368.0  Frami, Anderson and Donnelly           182 Bertie Road   \n",
      "13  268755.0                   Walsh-Haley      2624 Beatty Parkways   \n",
      "14  273274.0                 McDermott PLC     8917 Bergstrom Meadow   \n",
      "15       NaN                           NaN                       NaN   \n",
      "\n",
      "               city        state  postal-code abbrev      Jan      Feb  \\\n",
      "11    Norbertomouth  NorthDakota      31415.0     ND   150000    10000   \n",
      "12      East Davian         Iowa      72686.0    NaN   162000   120000   \n",
      "13     Goodwinmouth  RhodeIsland      31919.0    NaN    55000   120000   \n",
      "14  Kathryneborough     Delaware      27933.0    NaN   150000   120000   \n",
      "15              NaN          NaN          NaN    NaN  1462000  1507000   \n",
      "\n",
      "       Mar    total  \n",
      "11  162000   322000  \n",
      "12   35000   317000  \n",
      "13   35000   210000  \n",
      "14   70000   340000  \n",
      "15  717000  3686000  \n"
     ]
    }
   ],
   "source": [
    "df_final = df.append(df_sum,ignore_index=True)\n",
    "print(df_final.tail())"
   ]
  },
  {
   "cell_type": "markdown",
   "metadata": {},
   "source": [
    "# FUZZY TEXT MATCHING TO DETERMINE THE CORRECT VALUE"
   ]
  },
  {
   "cell_type": "code",
   "execution_count": 20,
   "metadata": {},
   "outputs": [
    {
     "name": "stderr",
     "output_type": "stream",
     "text": [
      "c:\\users\\dpriyareddypothul\\appdata\\local\\programs\\python\\python37-32\\lib\\site-packages\\fuzzywuzzy\\fuzz.py:11: UserWarning: Using slow pure-python SequenceMatcher. Install python-Levenshtein to remove this warning\n",
      "  warnings.warn('Using slow pure-python SequenceMatcher. Install python-Levenshtein to remove this warning')\n"
     ]
    }
   ],
   "source": [
    "import fuzzywuzzy as f\n",
    "from fuzzywuzzy import fuzz\n",
    "from fuzzywuzzy import process\n",
    "\n",
    "state_to_code = {\"VERMONT\": \"VT\", \"GEORGIA\": \"GA\", \"IOWA\": \"IA\", \"Armed Forces Pacific\": \"AP\", \"GUAM\": \"GU\",\n",
    "                 \"KANSAS\": \"KS\", \"FLORIDA\": \"FL\", \"AMERICAN SAMOA\": \"AS\", \"NORTH CAROLINA\": \"NC\", \"HAWAII\": \"HI\",\n",
    "                 \"NEW YORK\": \"NY\", \"CALIFORNIA\": \"CA\", \"ALABAMA\": \"AL\", \"IDAHO\": \"ID\", \"FEDERATED STATES OF MICRONESIA\": \"FM\",\n",
    "                 \"Armed Forces Americas\": \"AA\", \"DELAWARE\": \"DE\", \"ALASKA\": \"AK\", \"ILLINOIS\": \"IL\",\n",
    "                 \"Armed Forces Africa\": \"AE\", \"SOUTH DAKOTA\": \"SD\", \"CONNECTICUT\": \"CT\", \"MONTANA\": \"MT\", \"MASSACHUSETTS\": \"MA\",\n",
    "                 \"PUERTO RICO\": \"PR\", \"Armed Forces Canada\": \"AE\", \"NEW HAMPSHIRE\": \"NH\", \"MARYLAND\": \"MD\", \"NEW MEXICO\": \"NM\",\n",
    "                 \"MISSISSIPPI\": \"MS\", \"TENNESSEE\": \"TN\", \"PALAU\": \"PW\", \"COLORADO\": \"CO\", \"Armed Forces Middle East\": \"AE\",\n",
    "                 \"NEW JERSEY\": \"NJ\", \"UTAH\": \"UT\", \"MICHIGAN\": \"MI\", \"WEST VIRGINIA\": \"WV\", \"WASHINGTON\": \"WA\",\n",
    "                 \"MINNESOTA\": \"MN\", \"OREGON\": \"OR\", \"VIRGINIA\": \"VA\", \"VIRGIN ISLANDS\": \"VI\", \"MARSHALL ISLANDS\": \"MH\",\n",
    "                 \"WYOMING\": \"WY\", \"OHIO\": \"OH\", \"SOUTH CAROLINA\": \"SC\", \"INDIANA\": \"IN\", \"NEVADA\": \"NV\", \"LOUISIANA\": \"LA\",\n",
    "                 \"NORTHERN MARIANA ISLANDS\": \"MP\", \"NEBRASKA\": \"NE\", \"ARIZONA\": \"AZ\", \"WISCONSIN\": \"WI\", \"NORTH DAKOTA\": \"ND\",\n",
    "                 \"Armed Forces Europe\": \"AE\", \"PENNSYLVANIA\": \"PA\", \"OKLAHOMA\": \"OK\", \"KENTUCKY\": \"KY\", \"RHODE ISLAND\": \"RI\",\n",
    "                 \"DISTRICT OF COLUMBIA\": \"DC\", \"ARKANSAS\": \"AR\", \"MISSOURI\": \"MO\", \"TEXAS\": \"TX\", \"MAINE\": \"ME\"}\n"
   ]
  },
  {
   "cell_type": "code",
   "execution_count": 21,
   "metadata": {},
   "outputs": [
    {
     "data": {
      "text/plain": [
       "('VIRGINIA', 100)"
      ]
     },
     "execution_count": 21,
     "metadata": {},
     "output_type": "execute_result"
    }
   ],
   "source": [
    "process.extractOne(\"Virginia\",choices=state_to_code.keys())"
   ]
  },
  {
   "cell_type": "code",
   "execution_count": 22,
   "metadata": {},
   "outputs": [
    {
     "name": "stdout",
     "output_type": "stream",
     "text": [
      "NEW JERSEY 100\n"
     ]
    }
   ],
   "source": [
    "q=process.extractOne(\"New Jersey\",state_to_code.keys())\n",
    "print(q[0],q[1])\n"
   ]
  },
  {
   "cell_type": "code",
   "execution_count": 25,
   "metadata": {},
   "outputs": [
    {
     "data": {
      "text/html": [
       "<div>\n",
       "<style scoped>\n",
       "    .dataframe tbody tr th:only-of-type {\n",
       "        vertical-align: middle;\n",
       "    }\n",
       "\n",
       "    .dataframe tbody tr th {\n",
       "        vertical-align: top;\n",
       "    }\n",
       "\n",
       "    .dataframe thead th {\n",
       "        text-align: right;\n",
       "    }\n",
       "</style>\n",
       "<table border=\"1\" class=\"dataframe\">\n",
       "  <thead>\n",
       "    <tr style=\"text-align: right;\">\n",
       "      <th></th>\n",
       "      <th>account</th>\n",
       "      <th>name</th>\n",
       "      <th>street</th>\n",
       "      <th>city</th>\n",
       "      <th>state</th>\n",
       "      <th>postal-code</th>\n",
       "      <th>abbrev23</th>\n",
       "      <th>abbrev3</th>\n",
       "      <th>abbrev</th>\n",
       "      <th>Jan</th>\n",
       "      <th>Feb</th>\n",
       "      <th>Mar</th>\n",
       "      <th>total</th>\n",
       "    </tr>\n",
       "  </thead>\n",
       "  <tbody>\n",
       "    <tr>\n",
       "      <th>0</th>\n",
       "      <td>211829.0</td>\n",
       "      <td>Kerluke, Koepp and Hilpert</td>\n",
       "      <td>34456 Sean Highway</td>\n",
       "      <td>New Jaycob</td>\n",
       "      <td>Texas</td>\n",
       "      <td>28752.0</td>\n",
       "      <td>NaN</td>\n",
       "      <td>NaN</td>\n",
       "      <td>TX</td>\n",
       "      <td>10000</td>\n",
       "      <td>62000</td>\n",
       "      <td>35000</td>\n",
       "      <td>107000</td>\n",
       "    </tr>\n",
       "    <tr>\n",
       "      <th>1</th>\n",
       "      <td>320563.0</td>\n",
       "      <td>Walter-Trantow</td>\n",
       "      <td>1311 Alvis Tunnel</td>\n",
       "      <td>Port Khadijah</td>\n",
       "      <td>NorthCarolina</td>\n",
       "      <td>38365.0</td>\n",
       "      <td>NaN</td>\n",
       "      <td>NaN</td>\n",
       "      <td>NC</td>\n",
       "      <td>95000</td>\n",
       "      <td>45000</td>\n",
       "      <td>35000</td>\n",
       "      <td>175000</td>\n",
       "    </tr>\n",
       "    <tr>\n",
       "      <th>2</th>\n",
       "      <td>648336.0</td>\n",
       "      <td>Bashirian, Kunde and Price</td>\n",
       "      <td>62184 Schamberger Underpass Apt. 231</td>\n",
       "      <td>New Lilianland</td>\n",
       "      <td>Iowa</td>\n",
       "      <td>76517.0</td>\n",
       "      <td>NaN</td>\n",
       "      <td>NaN</td>\n",
       "      <td>IW</td>\n",
       "      <td>91000</td>\n",
       "      <td>120000</td>\n",
       "      <td>35000</td>\n",
       "      <td>246000</td>\n",
       "    </tr>\n",
       "    <tr>\n",
       "      <th>3</th>\n",
       "      <td>109996.0</td>\n",
       "      <td>D'Amore, Gleichner and Bode</td>\n",
       "      <td>155 Fadel Crescent Apt. 144</td>\n",
       "      <td>Hyattburgh</td>\n",
       "      <td>Maine</td>\n",
       "      <td>46021.0</td>\n",
       "      <td>NaN</td>\n",
       "      <td>NaN</td>\n",
       "      <td>MI</td>\n",
       "      <td>45000</td>\n",
       "      <td>120000</td>\n",
       "      <td>10000</td>\n",
       "      <td>175000</td>\n",
       "    </tr>\n",
       "    <tr>\n",
       "      <th>4</th>\n",
       "      <td>121213.0</td>\n",
       "      <td>Bauch-Goldner</td>\n",
       "      <td>7274 Marissa Common</td>\n",
       "      <td>Shanahanchester</td>\n",
       "      <td>California</td>\n",
       "      <td>49681.0</td>\n",
       "      <td>NaN</td>\n",
       "      <td>NaN</td>\n",
       "      <td>CA</td>\n",
       "      <td>162000</td>\n",
       "      <td>120000</td>\n",
       "      <td>35000</td>\n",
       "      <td>317000</td>\n",
       "    </tr>\n",
       "  </tbody>\n",
       "</table>\n",
       "</div>"
      ],
      "text/plain": [
       "    account                         name  \\\n",
       "0  211829.0   Kerluke, Koepp and Hilpert   \n",
       "1  320563.0               Walter-Trantow   \n",
       "2  648336.0   Bashirian, Kunde and Price   \n",
       "3  109996.0  D'Amore, Gleichner and Bode   \n",
       "4  121213.0                Bauch-Goldner   \n",
       "\n",
       "                                 street             city          state  \\\n",
       "0                    34456 Sean Highway       New Jaycob          Texas   \n",
       "1                     1311 Alvis Tunnel    Port Khadijah  NorthCarolina   \n",
       "2  62184 Schamberger Underpass Apt. 231   New Lilianland           Iowa   \n",
       "3           155 Fadel Crescent Apt. 144       Hyattburgh          Maine   \n",
       "4                   7274 Marissa Common  Shanahanchester     California   \n",
       "\n",
       "   postal-code  abbrev23  abbrev3 abbrev     Jan     Feb    Mar   total  \n",
       "0      28752.0       NaN      NaN     TX   10000   62000  35000  107000  \n",
       "1      38365.0       NaN      NaN     NC   95000   45000  35000  175000  \n",
       "2      76517.0       NaN      NaN     IW   91000  120000  35000  246000  \n",
       "3      46021.0       NaN      NaN     MI   45000  120000  10000  175000  \n",
       "4      49681.0       NaN      NaN     CA  162000  120000  35000  317000  "
      ]
     },
     "execution_count": 25,
     "metadata": {},
     "output_type": "execute_result"
    }
   ],
   "source": [
    "def convert_state(row):\n",
    "    abbrev = process.extractOne(str(row[\"state\"]),choices=state_to_code.keys())\n",
    "    if abbrev:\n",
    "        return state_to_code[abbrev[0]]\n",
    "    return np.nan\n",
    "\n",
    "df_final.insert(6,\"abbrev23\",np.nan)\n",
    "df_final.head()\n"
   ]
  },
  {
   "cell_type": "code",
   "execution_count": 26,
   "metadata": {},
   "outputs": [
    {
     "name": "stdout",
     "output_type": "stream",
     "text": [
      "     account                          name                    street  \\\n",
      "11  231907.0                    Hahn-Moore  18115 Olivine Throughway   \n",
      "12  242368.0  Frami, Anderson and Donnelly           182 Bertie Road   \n",
      "13  268755.0                   Walsh-Haley      2624 Beatty Parkways   \n",
      "14  273274.0                 McDermott PLC     8917 Bergstrom Meadow   \n",
      "15       NaN                           NaN                       NaN   \n",
      "\n",
      "               city        state  postal-code  abbrev23  abbrev3      Jan  \\\n",
      "11    Norbertomouth  NorthDakota      31415.0       NaN      NaN   150000   \n",
      "12      East Davian         Iowa      72686.0       NaN      NaN   162000   \n",
      "13     Goodwinmouth  RhodeIsland      31919.0       NaN      NaN    55000   \n",
      "14  Kathryneborough     Delaware      27933.0       NaN      NaN   150000   \n",
      "15              NaN          NaN          NaN       NaN      NaN  1462000   \n",
      "\n",
      "        Feb     Mar    total  \n",
      "11    10000  162000   322000  \n",
      "12   120000   35000   317000  \n",
      "13   120000   35000   210000  \n",
      "14   120000   70000   340000  \n",
      "15  1507000  717000  3686000  \n"
     ]
    }
   ],
   "source": [
    "del df_final['abbrev']\n",
    "print(df_final.tail())"
   ]
  },
  {
   "cell_type": "code",
   "execution_count": 27,
   "metadata": {},
   "outputs": [
    {
     "data": {
      "text/html": [
       "<div>\n",
       "<style scoped>\n",
       "    .dataframe tbody tr th:only-of-type {\n",
       "        vertical-align: middle;\n",
       "    }\n",
       "\n",
       "    .dataframe tbody tr th {\n",
       "        vertical-align: top;\n",
       "    }\n",
       "\n",
       "    .dataframe thead th {\n",
       "        text-align: right;\n",
       "    }\n",
       "</style>\n",
       "<table border=\"1\" class=\"dataframe\">\n",
       "  <thead>\n",
       "    <tr style=\"text-align: right;\">\n",
       "      <th></th>\n",
       "      <th>account</th>\n",
       "      <th>name</th>\n",
       "      <th>street</th>\n",
       "      <th>city</th>\n",
       "      <th>state</th>\n",
       "      <th>postal-code</th>\n",
       "      <th>abbrev23</th>\n",
       "      <th>abbrev3</th>\n",
       "      <th>Jan</th>\n",
       "      <th>Feb</th>\n",
       "      <th>Mar</th>\n",
       "      <th>total</th>\n",
       "    </tr>\n",
       "  </thead>\n",
       "  <tbody>\n",
       "    <tr>\n",
       "      <th>0</th>\n",
       "      <td>211829.0</td>\n",
       "      <td>Kerluke, Koepp and Hilpert</td>\n",
       "      <td>34456 Sean Highway</td>\n",
       "      <td>New Jaycob</td>\n",
       "      <td>Texas</td>\n",
       "      <td>28752.0</td>\n",
       "      <td>TX</td>\n",
       "      <td>NaN</td>\n",
       "      <td>10000</td>\n",
       "      <td>62000</td>\n",
       "      <td>35000</td>\n",
       "      <td>107000</td>\n",
       "    </tr>\n",
       "    <tr>\n",
       "      <th>1</th>\n",
       "      <td>320563.0</td>\n",
       "      <td>Walter-Trantow</td>\n",
       "      <td>1311 Alvis Tunnel</td>\n",
       "      <td>Port Khadijah</td>\n",
       "      <td>NorthCarolina</td>\n",
       "      <td>38365.0</td>\n",
       "      <td>NC</td>\n",
       "      <td>NaN</td>\n",
       "      <td>95000</td>\n",
       "      <td>45000</td>\n",
       "      <td>35000</td>\n",
       "      <td>175000</td>\n",
       "    </tr>\n",
       "    <tr>\n",
       "      <th>2</th>\n",
       "      <td>648336.0</td>\n",
       "      <td>Bashirian, Kunde and Price</td>\n",
       "      <td>62184 Schamberger Underpass Apt. 231</td>\n",
       "      <td>New Lilianland</td>\n",
       "      <td>Iowa</td>\n",
       "      <td>76517.0</td>\n",
       "      <td>IA</td>\n",
       "      <td>NaN</td>\n",
       "      <td>91000</td>\n",
       "      <td>120000</td>\n",
       "      <td>35000</td>\n",
       "      <td>246000</td>\n",
       "    </tr>\n",
       "    <tr>\n",
       "      <th>3</th>\n",
       "      <td>109996.0</td>\n",
       "      <td>D'Amore, Gleichner and Bode</td>\n",
       "      <td>155 Fadel Crescent Apt. 144</td>\n",
       "      <td>Hyattburgh</td>\n",
       "      <td>Maine</td>\n",
       "      <td>46021.0</td>\n",
       "      <td>ME</td>\n",
       "      <td>NaN</td>\n",
       "      <td>45000</td>\n",
       "      <td>120000</td>\n",
       "      <td>10000</td>\n",
       "      <td>175000</td>\n",
       "    </tr>\n",
       "    <tr>\n",
       "      <th>4</th>\n",
       "      <td>121213.0</td>\n",
       "      <td>Bauch-Goldner</td>\n",
       "      <td>7274 Marissa Common</td>\n",
       "      <td>Shanahanchester</td>\n",
       "      <td>California</td>\n",
       "      <td>49681.0</td>\n",
       "      <td>CA</td>\n",
       "      <td>NaN</td>\n",
       "      <td>162000</td>\n",
       "      <td>120000</td>\n",
       "      <td>35000</td>\n",
       "      <td>317000</td>\n",
       "    </tr>\n",
       "  </tbody>\n",
       "</table>\n",
       "</div>"
      ],
      "text/plain": [
       "    account                         name  \\\n",
       "0  211829.0   Kerluke, Koepp and Hilpert   \n",
       "1  320563.0               Walter-Trantow   \n",
       "2  648336.0   Bashirian, Kunde and Price   \n",
       "3  109996.0  D'Amore, Gleichner and Bode   \n",
       "4  121213.0                Bauch-Goldner   \n",
       "\n",
       "                                 street             city          state  \\\n",
       "0                    34456 Sean Highway       New Jaycob          Texas   \n",
       "1                     1311 Alvis Tunnel    Port Khadijah  NorthCarolina   \n",
       "2  62184 Schamberger Underpass Apt. 231   New Lilianland           Iowa   \n",
       "3           155 Fadel Crescent Apt. 144       Hyattburgh          Maine   \n",
       "4                   7274 Marissa Common  Shanahanchester     California   \n",
       "\n",
       "   postal-code abbrev23  abbrev3     Jan     Feb    Mar   total  \n",
       "0      28752.0       TX      NaN   10000   62000  35000  107000  \n",
       "1      38365.0       NC      NaN   95000   45000  35000  175000  \n",
       "2      76517.0       IA      NaN   91000  120000  35000  246000  \n",
       "3      46021.0       ME      NaN   45000  120000  10000  175000  \n",
       "4      49681.0       CA      NaN  162000  120000  35000  317000  "
      ]
     },
     "execution_count": 27,
     "metadata": {},
     "output_type": "execute_result"
    }
   ],
   "source": [
    "df_final['abbrev23'] = df_final.apply(convert_state,axis=1)\n",
    "df_final.head()"
   ]
  },
  {
   "cell_type": "code",
   "execution_count": 28,
   "metadata": {},
   "outputs": [],
   "source": [
    "del df_final['abbrev3']\n"
   ]
  },
  {
   "cell_type": "code",
   "execution_count": 29,
   "metadata": {},
   "outputs": [
    {
     "name": "stdout",
     "output_type": "stream",
     "text": [
      "     account                              name  \\\n",
      "0   211829.0        Kerluke, Koepp and Hilpert   \n",
      "1   320563.0                    Walter-Trantow   \n",
      "2   648336.0        Bashirian, Kunde and Price   \n",
      "3   109996.0       D'Amore, Gleichner and Bode   \n",
      "4   121213.0                     Bauch-Goldner   \n",
      "5   132971.0  Williamson, Schumm and Hettinger   \n",
      "6   145068.0                        Casper LLC   \n",
      "7   205217.0                  Kovacek-Johnston   \n",
      "8   209744.0                    Champlin-Morar   \n",
      "9   212303.0                    Gerhold-Maggio   \n",
      "10  214098.0       Goodwin, Homenick and Jerde   \n",
      "11  231907.0                        Hahn-Moore   \n",
      "12  242368.0      Frami, Anderson and Donnelly   \n",
      "13  268755.0                       Walsh-Haley   \n",
      "14  273274.0                     McDermott PLC   \n",
      "15       NaN                               NaN   \n",
      "\n",
      "                                  street               city          state  \\\n",
      "0                     34456 Sean Highway         New Jaycob          Texas   \n",
      "1                      1311 Alvis Tunnel      Port Khadijah  NorthCarolina   \n",
      "2   62184 Schamberger Underpass Apt. 231     New Lilianland           Iowa   \n",
      "3            155 Fadel Crescent Apt. 144         Hyattburgh          Maine   \n",
      "4                    7274 Marissa Common    Shanahanchester     California   \n",
      "5                   89403 Casimer Spring       Jeremieburgh       Arkansas   \n",
      "6           340 Consuela Bridge Apt. 400  Lake Gabriellaton     Mississipi   \n",
      "7           91971 Cronin Vista Suite 601         Deronville    RhodeIsland   \n",
      "8                       26739 Grant Lock    Lake Juliannton   Pennsylvania   \n",
      "9              366 Maggio Grove Apt. 998          North Ras          Idaho   \n",
      "10             649 Cierra Forks Apt. 078           Rosaberg       Tenessee   \n",
      "11              18115 Olivine Throughway      Norbertomouth    NorthDakota   \n",
      "12                       182 Bertie Road        East Davian           Iowa   \n",
      "13                  2624 Beatty Parkways       Goodwinmouth    RhodeIsland   \n",
      "14                 8917 Bergstrom Meadow    Kathryneborough       Delaware   \n",
      "15                                   NaN                NaN            NaN   \n",
      "\n",
      "    postal-code abbrev23      Jan      Feb     Mar    total  \n",
      "0       28752.0       TX    10000    62000   35000   107000  \n",
      "1       38365.0       NC    95000    45000   35000   175000  \n",
      "2       76517.0       IA    91000   120000   35000   246000  \n",
      "3       46021.0       ME    45000   120000   10000   175000  \n",
      "4       49681.0       CA   162000   120000   35000   317000  \n",
      "5       62785.0       AR   150000   120000   35000   305000  \n",
      "6       18008.0       MS    62000   120000   70000   252000  \n",
      "7       53461.0       RI   145000    95000   35000   275000  \n",
      "8       64415.0       PA    70000    95000   35000   200000  \n",
      "9       46308.0       ID    70000   120000   35000   225000  \n",
      "10      47743.0       TN    45000   120000   55000   220000  \n",
      "11      31415.0       ND   150000    10000  162000   322000  \n",
      "12      72686.0       IA   162000   120000   35000   317000  \n",
      "13      31919.0       RI    55000   120000   35000   210000  \n",
      "14      27933.0       DE   150000   120000   70000   340000  \n",
      "15          NaN       NC  1462000  1507000  717000  3686000  \n"
     ]
    }
   ],
   "source": [
    "print(df_final)"
   ]
  },
  {
   "cell_type": "code",
   "execution_count": 30,
   "metadata": {},
   "outputs": [],
   "source": [
    "df_final.to_csv('final.csv')"
   ]
  },
  {
   "cell_type": "code",
   "execution_count": null,
   "metadata": {},
   "outputs": [],
   "source": []
  }
 ],
 "metadata": {
  "kernelspec": {
   "display_name": "Python 3",
   "language": "python",
   "name": "python3"
  },
  "language_info": {
   "codemirror_mode": {
    "name": "ipython",
    "version": 3
   },
   "file_extension": ".py",
   "mimetype": "text/x-python",
   "name": "python",
   "nbconvert_exporter": "python",
   "pygments_lexer": "ipython3",
   "version": "3.7.4"
  }
 },
 "nbformat": 4,
 "nbformat_minor": 2
}
